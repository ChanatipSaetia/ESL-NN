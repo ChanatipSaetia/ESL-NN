{
 "cells": [
  {
   "cell_type": "code",
   "execution_count": 1,
   "metadata": {
    "collapsed": true
   },
   "outputs": [],
   "source": [
    "from data import preparation\n",
    "import data.hierarchy as hie\n",
    "from sklearn.model_selection import train_test_split"
   ]
  },
  {
   "cell_type": "code",
   "execution_count": 2,
   "metadata": {},
   "outputs": [],
   "source": [
    "with open('data/wipo_d/hierarchy.txt', 'w') as f1:\n",
    "    with open('data/wipo_d/wipo_d.ht') as f:\n",
    "        for l in f:\n",
    "            split = l.strip().split(':')\n",
    "            p = split[0]\n",
    "            c = split[1].split(',')\n",
    "            for cc in c:\n",
    "                f1.write('%s %s\\n'% (p,cc))"
   ]
  },
  {
   "cell_type": "code",
   "execution_count": 3,
   "metadata": {
    "collapsed": true
   },
   "outputs": [],
   "source": [
    "data_name = \"wipo_d\""
   ]
  },
  {
   "cell_type": "code",
   "execution_count": 4,
   "metadata": {
    "collapsed": true
   },
   "outputs": [],
   "source": [
    "hierarchy, parent_of, all_name, name_to_index, level = hie.reindex_hierarchy(\n",
    "                '%s/hierarchy.txt' % data_name)\n",
    "hie.save_hierarchy(\"%s/hierarchy.pickle\" % data_name, hierarchy,\n",
    "                   parent_of, all_name, name_to_index, level)"
   ]
  },
  {
   "cell_type": "code",
   "execution_count": 5,
   "metadata": {
    "collapsed": true
   },
   "outputs": [],
   "source": [
    "for mode in ['train', 'test']:\n",
    "    for i in range(1,6):\n",
    "        datas, labels = preparation.import_data('wipo_d/folds/wipo_d_fold%d.dat.%s' % (i, mode))\n",
    "        new_labels = preparation.map_index_of_label('wipo_d/hierarchy.pickle', labels)\n",
    "        if mode == 'train':\n",
    "            train_data, validate_data, train_target, validate_target = train_test_split(\n",
    "                datas, new_labels, test_size=0.1, random_state=12345)\n",
    "            preparation.save_data_in_pickle('wipo_d/fold/data_%d.pickle.%s' % (i, mode), train_data, train_target)\n",
    "            preparation.save_data_in_pickle('wipo_d/fold/data_%d.pickle.%s' % (i, \"validate\"), validate_data, validate_target)\n",
    "        else:\n",
    "            preparation.save_data_in_pickle('wipo_d/fold/data_%d.pickle.%s' % (i, mode), datas, new_labels)"
   ]
  },
  {
   "cell_type": "markdown",
   "metadata": {},
   "source": [
    "# Real Flow "
   ]
  },
  {
   "cell_type": "code",
   "execution_count": 6,
   "metadata": {},
   "outputs": [
    {
     "name": "stderr",
     "output_type": "stream",
     "text": [
      "Using TensorFlow backend.\n"
     ]
    }
   ],
   "source": [
    "from data import Dataset\n",
    "from embedding import Doc2Vec\n",
    "from assemble_classifier import AssembleNoLabel, AssemblePredicted\n",
    "%load_ext autoreload\n",
    "%autoreload 2"
   ]
  },
  {
   "cell_type": "code",
   "execution_count": 7,
   "metadata": {
    "collapsed": true
   },
   "outputs": [],
   "source": [
    "dataset_train = Dataset(\"wipo_d\", 1, \"train\")\n",
    "dataset_validate = Dataset(\"wipo_d\", 1, \"validate\")\n",
    "dataset_test = Dataset(\"wipo_d\", 1, \"test\")"
   ]
  },
  {
   "cell_type": "code",
   "execution_count": 8,
   "metadata": {
    "scrolled": true
   },
   "outputs": [
    {
     "name": "stdout",
     "output_type": "stream",
     "text": [
      "Doc2Vec by Gensim\n",
      "Epoch: 10 Similar: 0.06\n",
      "Epoch: 20 Similar: 0.02\n",
      "Epoch: 30 Similar: 0.08\n",
      "Epoch: 40 Similar: 0.14\n",
      "Epoch: 50 Similar: 0.16\n",
      "Epoch: 60 Similar: 0.18\n",
      "Epoch: 70 Similar: 0.18\n",
      "Epoch: 80 Similar: 0.19\n",
      "Epoch: 90 Similar: 0.19\n",
      "Epoch: 100 Similar: 0.20\n",
      "Epoch: 110 Similar: 0.20\n",
      "Epoch: 120 Similar: 0.20\n",
      "Epoch: 130 Similar: 0.21\n",
      "Epoch: 140 Similar: 0.22\n",
      "Epoch: 150 Similar: 0.23\n",
      "Epoch: 160 Similar: 0.23\n",
      "Epoch: 170 Similar: 0.24\n",
      "Epoch: 180 Similar: 0.24\n",
      "Epoch: 190 Similar: 0.25\n",
      "Epoch: 200 Similar: 0.26\n",
      "Epoch: 210 Similar: 0.26\n",
      "Epoch: 220 Similar: 0.26\n",
      "Epoch: 230 Similar: 0.27\n",
      "Epoch: 240 Similar: 0.27\n",
      "Epoch: 250 Similar: 0.28\n",
      "Epoch: 260 Similar: 0.28\n",
      "Epoch: 270 Similar: 0.28\n",
      "Epoch: 280 Similar: 0.28\n",
      "Epoch: 290 Similar: 0.29\n",
      "Epoch: 300 Similar: 0.30\n",
      "Epoch: 310 Similar: 0.29\n",
      "Epoch: 320 Similar: 0.30\n",
      "Epoch: 330 Similar: 0.30\n",
      "Epoch: 340 Similar: 0.30\n",
      "Epoch: 350 Similar: 0.30\n",
      "Epoch: 360 Similar: 0.31\n",
      "Epoch: 370 Similar: 0.31\n",
      "Epoch: 380 Similar: 0.31\n",
      "Epoch: 390 Similar: 0.31\n",
      "Epoch: 400 Similar: 0.31\n",
      "Epoch: 410 Similar: 0.31\n",
      "Epoch: 420 Similar: 0.32\n",
      "Epoch: 430 Similar: 0.32\n",
      "Epoch: 440 Similar: 0.32\n",
      "Epoch: 450 Similar: 0.32\n",
      "Epoch: 460 Similar: 0.32\n",
      "Stopping Similar: 0.32\n"
     ]
    },
    {
     "data": {
      "text/plain": [
       "<embedding.Doc2Vec.GensimDoc2Vec at 0x7f768e6571d0>"
      ]
     },
     "execution_count": 8,
     "metadata": {},
     "output_type": "execute_result"
    }
   ],
   "source": [
    "doc2vec = Doc2Vec(dataset_train.number_of_classes(), size=100, epoch=500)\n",
    "doc2vec.fit(dataset_train.datas, dataset_train.labels, dataset_validate.datas, dataset_validate.labels)"
   ]
  },
  {
   "cell_type": "code",
   "execution_count": 9,
   "metadata": {
    "collapsed": true
   },
   "outputs": [],
   "source": [
    "dataset_train.change_to_Doc2Vec(doc2vec)\n",
    "dataset_validate.change_to_Doc2Vec(doc2vec)\n",
    "dataset_test.change_to_Doc2Vec(doc2vec)"
   ]
  },
  {
   "cell_type": "code",
   "execution_count": 16,
   "metadata": {
    "collapsed": true
   },
   "outputs": [],
   "source": [
    "model = AssemblePredicted(\"wipo_d\", dataset_train, dataset_validate, dataset_test, iteration=20000, batch_size=3000, hidden_size=[300,1500,1500,1500], target_hidden_size=[60,60,60], use_dropout=True)"
   ]
  },
  {
   "cell_type": "code",
   "execution_count": 17,
   "metadata": {
    "scrolled": true
   },
   "outputs": [
    {
     "name": "stdout",
     "output_type": "stream",
     "text": [
      "Level: 1.000 Epoch: 666/20000 Batch: 1/1 Loss: 0.052 Training Loss: 0.052 Validate F1 macro: 0.682\n",
      "Level: 1.000 Epoch: 1166/20000 Batch: 1/1 Loss: 0.013 Training Loss: 0.013 Stopping F1 macro: 0.622\n",
      "\n",
      "Level: 2.000 Epoch: 666/20000 Batch: 1/1 Loss: 0.099 Training Loss: 0.099 Validate F1 macro: 0.557\n",
      "Level: 2.000 Epoch: 1166/20000 Batch: 1/1 Loss: 0.057 Training Loss: 0.057 Stopping F1 macro: 0.513\n",
      "\n",
      "Level: 3.000 Epoch: 666/20000 Batch: 1/1 Loss: 0.663 Training Loss: 0.663 Validate F1 macro: 0.098\n",
      "Level: 3.000 Epoch: 1214/20000 Batch: 1/1 Loss: 0.259 Training Loss: 0.259 Stopping F1 macro: 0.080\n",
      "\n",
      "Level: 4.000 Epoch: 666/20000 Batch: 1/1 Loss: 0.896  Training Loss: 0.896 Validate F1 macro: 0.010\n",
      "Level: 4.000 Epoch: 1332/20000 Batch: 1/1 Loss: 0.250 Training Loss: 0.250 Validate F1 macro: 0.015\n",
      "Level: 4.000 Epoch: 1998/20000 Batch: 1/1 Loss: 0.126 Training Loss: 0.126 Validate F1 macro: 0.017\n",
      "Level: 4.000 Epoch: 2000/20000 Batch: 1/1 Loss: 0.116 Training Loss: 0.116 Stopping F1 macro: 0.016\n",
      "\n"
     ]
    }
   ],
   "source": [
    "model.train()"
   ]
  },
  {
   "cell_type": "code",
   "execution_count": 18,
   "metadata": {
    "collapsed": true
   },
   "outputs": [],
   "source": [
    "model.tuning_threshold()"
   ]
  },
  {
   "cell_type": "code",
   "execution_count": 31,
   "metadata": {
    "collapsed": true
   },
   "outputs": [],
   "source": [
    "f1_macro, f1_micro, f1_each = model.evaluate(\"test\")"
   ]
  },
  {
   "cell_type": "code",
   "execution_count": 32,
   "metadata": {},
   "outputs": [
    {
     "name": "stdout",
     "output_type": "stream",
     "text": [
      "F1 macro: 0.0873 F1 micro: 0.5004\n"
     ]
    }
   ],
   "source": [
    "print(\"F1 macro: %.4f F1 micro: %.4f\" % (f1_macro, f1_micro))"
   ]
  },
  {
   "cell_type": "code",
   "execution_count": 33,
   "metadata": {},
   "outputs": [
    {
     "name": "stdout",
     "output_type": "stream",
     "text": [
      "Level: 0 F1 macro: 0.5941 F1 micro: 0.7469\n",
      "Level: 1 F1 macro: 0.5548 F1 micro: 0.6105\n",
      "Level: 2 F1 macro: 0.1574 F1 micro: 0.3683\n",
      "Level: 3 F1 macro: 0.0500 F1 micro: 0.2042\n"
     ]
    }
   ],
   "source": [
    "for level, (macro, micro) in enumerate(f1_each):\n",
    "    print(\"Level: %d F1 macro: %.4f F1 micro: %.4f\" % (level, macro, micro))"
   ]
  },
  {
   "cell_type": "code",
   "execution_count": null,
   "metadata": {
    "collapsed": true
   },
   "outputs": [],
   "source": []
  }
 ],
 "metadata": {
  "kernelspec": {
   "display_name": "Python 3",
   "language": "python",
   "name": "python3"
  },
  "language_info": {
   "codemirror_mode": {
    "name": "ipython",
    "version": 3
   },
   "file_extension": ".py",
   "mimetype": "text/x-python",
   "name": "python",
   "nbconvert_exporter": "python",
   "pygments_lexer": "ipython3",
   "version": "3.6.1"
  }
 },
 "nbformat": 4,
 "nbformat_minor": 2
}
