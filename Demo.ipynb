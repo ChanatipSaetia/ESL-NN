{
 "cells": [
  {
   "cell_type": "code",
   "execution_count": 1,
   "metadata": {
    "collapsed": true
   },
   "outputs": [],
   "source": [
    "from data import preparation\n",
    "import data.hierarchy as hie\n",
    "from sklearn.model_selection import train_test_split"
   ]
  },
  {
   "cell_type": "code",
   "execution_count": 2,
   "metadata": {
    "collapsed": true
   },
   "outputs": [],
   "source": [
    "data_name = \"wiki_small\""
   ]
  },
  {
   "cell_type": "code",
   "execution_count": 3,
   "metadata": {
    "collapsed": true
   },
   "outputs": [],
   "source": [
    "# with open('data/%s/hierarchy.txt' % data_name, 'w') as f1:\n",
    "#     with open('data/%s/%s.ht' % (data_name,data_name)) as f:\n",
    "#         for l in f:\n",
    "#             split = l.strip().split(':')\n",
    "#             p = split[0]\n",
    "#             c = split[1].split(',')\n",
    "#             for cc in c:\n",
    "#                 f1.write('%s %s\\n'% (p,cc))"
   ]
  },
  {
   "cell_type": "code",
   "execution_count": 4,
   "metadata": {
    "collapsed": true
   },
   "outputs": [],
   "source": [
    "# hierarchy, parent_of, all_name, name_to_index, level = hie.reindex_hierarchy(\n",
    "#                 '%s/hierarchy.txt' % data_name)\n",
    "# hie.save_hierarchy(\"%s/hierarchy.pickle\" % data_name, hierarchy,\n",
    "#                    parent_of, all_name, name_to_index, level)"
   ]
  },
  {
   "cell_type": "code",
   "execution_count": 5,
   "metadata": {},
   "outputs": [],
   "source": [
    "# for mode in ['train', 'test']:\n",
    "#     for i in range(1,6):\n",
    "#         datas, labels = preparation.import_data('%s/folds/%s_fold%d.dat.%s' % (data_name, data_name, i, mode))\n",
    "#         new_labels = preparation.map_index_of_label('%s/hierarchy.pickle' % data_name, labels)\n",
    "#         if mode == 'train':\n",
    "#             train_data, validate_data, train_target, validate_target = train_test_split(\n",
    "#                 datas, new_labels, test_size=0.1, random_state=12345)\n",
    "#             preparation.save_data_in_pickle('%s/fold/data_%d.pickle.%s' % (data_name, i, mode), train_data, train_target)\n",
    "#             preparation.save_data_in_pickle('%s/fold/data_%d.pickle.%s' % (data_name, i, \"validate\"), validate_data, validate_target)\n",
    "#         else:\n",
    "#             preparation.save_data_in_pickle('%s/fold/data_%d.pickle.%s' % (data_name, i, mode), datas, new_labels)"
   ]
  },
  {
   "cell_type": "code",
   "execution_count": 6,
   "metadata": {
    "collapsed": true
   },
   "outputs": [],
   "source": [
    "hierarchy, parent_of, all_name, name_to_index, level = hie.reindex_hierarchy(\n",
    "                '%s/new_hierarchy.txt' % data_name)\n",
    "hie.save_hierarchy(\"%s/hierarchy.pickle\" % data_name, hierarchy,\n",
    "                   parent_of, all_name, name_to_index, level)"
   ]
  },
  {
   "cell_type": "markdown",
   "metadata": {},
   "source": [
    "# Real Flow "
   ]
  },
  {
   "cell_type": "code",
   "execution_count": 7,
   "metadata": {},
   "outputs": [],
   "source": [
    "from data import Dataset\n",
    "from embedding import Doc2Vec, NoTag_Doc2Vec\n",
    "from assemble_classifier import AssemblePredicted, AssemblePredictedHidden, AssemblePredictedHiddenAdd\n",
    "import shutil\n",
    "import os\n",
    "%load_ext autoreload\n",
    "%autoreload 2"
   ]
  },
  {
   "cell_type": "code",
   "execution_count": 8,
   "metadata": {
    "collapsed": true
   },
   "outputs": [],
   "source": [
    "fold = 1"
   ]
  },
  {
   "cell_type": "code",
   "execution_count": 9,
   "metadata": {
    "collapsed": true
   },
   "outputs": [],
   "source": [
    "if os.path.isdir('data/%s/output' % data_name):\n",
    "    shutil.rmtree('data/%s/output' % data_name)"
   ]
  },
  {
   "cell_type": "code",
   "execution_count": 10,
   "metadata": {},
   "outputs": [],
   "source": [
    "dataset_train = Dataset(data_name, fold, \"train\")\n",
    "dataset_validate = Dataset(data_name, fold, \"validate\")\n",
    "dataset_test = Dataset(data_name, fold, \"test\")"
   ]
  },
  {
   "cell_type": "code",
   "execution_count": null,
   "metadata": {},
   "outputs": [],
   "source": [
    "dataset_train.delete_label_more(level[-1])\n",
    "dataset_validate.delete_label_more(level[-1])\n",
    "dataset_test.delete_label_more(level[-1])"
   ]
  },
  {
   "cell_type": "code",
   "execution_count": null,
   "metadata": {
    "scrolled": false
   },
   "outputs": [
    {
     "name": "stdout",
     "output_type": "stream",
     "text": [
      "Doc2Vec by Gensim\n",
      "6.25\n",
      "Epoch: 30 Similar: 0.08780\n",
      "Epoch: 60 Similar: 0.06888\n",
      "Epoch: 90 Similar: 0.06736\n",
      "Epoch: 120 Similar: 0.07097\n",
      "Epoch: 150 Similar: 0.07884\n",
      "Epoch: 180 Similar: 0.08628\n",
      "Epoch: 210 Similar: 0.09187\n",
      "Epoch: 240 Similar: 0.09836\n",
      "Epoch: 270 Similar: 0.10278\n",
      "Epoch: 300 Similar: 0.10564\n",
      "Epoch: 330 Similar: 0.10937\n",
      "Epoch: 360 Similar: 0.11261\n",
      "Epoch: 390 Similar: 0.11640\n",
      "Epoch: 420 Similar: 0.11780\n",
      "Epoch: 450 Similar: 0.12136\n",
      "Epoch: 480 Similar: 0.12303\n",
      "Epoch: 510 Similar: 0.12466\n",
      "Epoch: 540 Similar: 0.12625\n",
      "Epoch: 570 Similar: 0.12913\n",
      "Epoch: 600 Similar: 0.13034\n",
      "Epoch: 630 Similar: 0.13256\n",
      "Epoch: 660 Similar: 0.13340\n",
      "Epoch: 690 Similar: 0.13447\n"
     ]
    }
   ],
   "source": [
    "%%time\n",
    "doc2vec = Doc2Vec(dataset_train.number_of_classes(), size=150, epoch=1500, batch_size=10000)\n",
    "doc2vec.fit(dataset_train.datas, dataset_train.labels, dataset_validate.datas, dataset_validate.labels, early_stopping=True)\n",
    "# doc2vec.load_model(\"best_now/doc2vec_wiki_small/2520.model\")"
   ]
  },
  {
   "cell_type": "code",
   "execution_count": null,
   "metadata": {
    "collapsed": true
   },
   "outputs": [],
   "source": [
    "dataset_train.change_to_Doc2Vec(doc2vec)\n",
    "dataset_validate.change_to_Doc2Vec(doc2vec)\n",
    "dataset_test.change_to_Doc2Vec(doc2vec)"
   ]
  },
  {
   "cell_type": "code",
   "execution_count": null,
   "metadata": {
    "collapsed": true
   },
   "outputs": [],
   "source": [
    "model =  AssemblePredicted(data_name, dataset_train, dataset_validate, dataset_test, iteration=3000, stopping_time=400, batch_size=65536, hidden_size=[100,562,2110,3768], target_hidden_size=[60,60,60], use_dropout=True, start_level=0)\n",
    "# model = AssembleNoLabel(data_name, dataset_train, dataset_validate, dataset_test, iteration=2000, batch_size=100, hidden_size=[300,1500,1500,1500], use_dropout=False, start_level=0, end_level=100)\n",
    "# model = AssemblePredictedHidden(data_name, dataset_train, dataset_validate, dataset_test, iteration=20000, batch_size=2000, hidden_size=[300,1500,2000,2500], use_dropout=True, start_level=0, end_level=100)"
   ]
  },
  {
   "cell_type": "code",
   "execution_count": null,
   "metadata": {
    "scrolled": false
   },
   "outputs": [],
   "source": [
    "%%time\n",
    "model.train()"
   ]
  },
  {
   "cell_type": "code",
   "execution_count": null,
   "metadata": {},
   "outputs": [],
   "source": [
    "model.tuning_threshold()"
   ]
  },
  {
   "cell_type": "code",
   "execution_count": null,
   "metadata": {},
   "outputs": [],
   "source": [
    "f1_macro, f1_micro, f1_each = model.evaluate(\"train\", correction=False)\n",
    "print(\"F1 macro: %.4f F1 micro: %.4f\" % (f1_macro, f1_micro))\n",
    "for level, (macro, micro) in enumerate(f1_each):\n",
    "    print(\"Level: %d F1 macro: %.4f F1 micro: %.4f\" % (level, macro, micro))"
   ]
  },
  {
   "cell_type": "code",
   "execution_count": null,
   "metadata": {},
   "outputs": [],
   "source": [
    "f1_macro, f1_micro, f1_each = model.evaluate(\"validate\", correction=False)\n",
    "print(\"F1 macro: %.4f F1 micro: %.4f\" % (f1_macro, f1_micro))\n",
    "for level, (macro, micro) in enumerate(f1_each):\n",
    "    print(\"Level: %d F1 macro: %.4f F1 micro: %.4f\" % (level, macro, micro))"
   ]
  },
  {
   "cell_type": "code",
   "execution_count": null,
   "metadata": {},
   "outputs": [],
   "source": [
    "f1_macro, f1_micro, f1_each = model.evaluate(\"test\", correction=True)\n",
    "print(\"F1 macro: %.4f F1 micro: %.4f\" % (f1_macro, f1_micro))\n",
    "for level, (macro, micro) in enumerate(f1_each):\n",
    "    print(\"Level: %d F1 macro: %.4f F1 micro: %.4f\" % (level, macro, micro))"
   ]
  },
  {
   "cell_type": "code",
   "execution_count": null,
   "metadata": {
    "collapsed": true
   },
   "outputs": [],
   "source": []
  }
 ],
 "metadata": {
  "kernelspec": {
   "display_name": "Python 3",
   "language": "python",
   "name": "python3"
  },
  "language_info": {
   "codemirror_mode": {
    "name": "ipython",
    "version": 3
   },
   "file_extension": ".py",
   "mimetype": "text/x-python",
   "name": "python",
   "nbconvert_exporter": "python",
   "pygments_lexer": "ipython3",
   "version": "3.6.1"
  }
 },
 "nbformat": 4,
 "nbformat_minor": 2
}
