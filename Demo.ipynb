{
 "cells": [
  {
   "cell_type": "code",
   "execution_count": 1,
   "metadata": {
    "collapsed": true
   },
   "outputs": [],
   "source": [
    "from data import preparation\n",
    "import data.hierarchy as hie\n",
    "from sklearn.model_selection import train_test_split"
   ]
  },
  {
   "cell_type": "code",
   "execution_count": 2,
   "metadata": {
    "collapsed": true
   },
   "outputs": [],
   "source": [
    "with open('data/wipo_d/hierarchy.txt', 'w') as f1:\n",
    "    with open('data/wipo_d/wipo_d.ht') as f:\n",
    "        for l in f:\n",
    "            split = l.strip().split(':')\n",
    "            p = split[0]\n",
    "            c = split[1].split(',')\n",
    "            for cc in c:\n",
    "                f1.write('%s %s\\n'% (p,cc))"
   ]
  },
  {
   "cell_type": "code",
   "execution_count": 3,
   "metadata": {
    "collapsed": true
   },
   "outputs": [],
   "source": [
    "data_name = \"wipo_d\""
   ]
  },
  {
   "cell_type": "code",
   "execution_count": 4,
   "metadata": {
    "collapsed": true
   },
   "outputs": [],
   "source": [
    "hierarchy, parent_of, all_name, name_to_index, level = hie.reindex_hierarchy(\n",
    "                '%s/hierarchy.txt' % data_name)\n",
    "hie.save_hierarchy(\"%s/hierarchy.pickle\" % data_name, hierarchy,\n",
    "                   parent_of, all_name, name_to_index, level)"
   ]
  },
  {
   "cell_type": "code",
   "execution_count": 5,
   "metadata": {
    "collapsed": true
   },
   "outputs": [],
   "source": [
    "for mode in ['train', 'test']:\n",
    "    for i in range(1,6):\n",
    "        datas, labels = preparation.import_data('wipo_d/folds/wipo_d_fold%d.dat.%s' % (i, mode))\n",
    "        new_labels = preparation.map_index_of_label('wipo_d/hierarchy.pickle', labels)\n",
    "        if mode == 'train':\n",
    "            train_data, validate_data, train_target, validate_target = train_test_split(\n",
    "                datas, new_labels, test_size=0.1, random_state=12345)\n",
    "            preparation.save_data_in_pickle('wipo_d/fold/data_%d.pickle.%s' % (i, mode), train_data, train_target)\n",
    "            preparation.save_data_in_pickle('wipo_d/fold/data_%d.pickle.%s' % (i, \"validate\"), validate_data, validate_target)\n",
    "        else:\n",
    "            preparation.save_data_in_pickle('wipo_d/fold/data_%d.pickle.%s' % (i, mode), datas, new_labels)"
   ]
  },
  {
   "cell_type": "markdown",
   "metadata": {},
   "source": [
    "# Real Flow "
   ]
  },
  {
   "cell_type": "code",
   "execution_count": 6,
   "metadata": {
    "collapsed": true
   },
   "outputs": [],
   "source": [
    "from data import Dataset\n",
    "from embedding import Doc2Vec\n",
    "from assemble_classifier import AssembleNoLabel, AssemblePredicted\n",
    "%load_ext autoreload\n",
    "%autoreload 2"
   ]
  },
  {
   "cell_type": "code",
   "execution_count": 7,
   "metadata": {
    "collapsed": true
   },
   "outputs": [],
   "source": [
    "dataset_train = Dataset(\"wipo_d\", 1, \"train\")\n",
    "dataset_validate = Dataset(\"wipo_d\", 1, \"validate\")\n",
    "dataset_test = Dataset(\"wipo_d\", 1, \"test\")"
   ]
  },
  {
   "cell_type": "code",
   "execution_count": 8,
   "metadata": {
    "scrolled": true
   },
   "outputs": [
    {
     "name": "stdout",
     "output_type": "stream",
     "text": [
      "Doc2Vec by Gensim\n",
      "Epoch: 10 Similar: 0.06\n",
      "Epoch: 20 Similar: 0.02\n",
      "Epoch: 30 Similar: 0.08\n",
      "Epoch: 40 Similar: 0.13\n",
      "Epoch: 50 Similar: 0.16\n",
      "Epoch: 60 Similar: 0.17\n",
      "Epoch: 70 Similar: 0.18\n",
      "Epoch: 80 Similar: 0.19\n",
      "Epoch: 90 Similar: 0.19\n",
      "Epoch: 100 Similar: 0.20\n",
      "Epoch: 110 Similar: 0.20\n",
      "Epoch: 120 Similar: 0.21\n",
      "Epoch: 130 Similar: 0.21\n",
      "Epoch: 140 Similar: 0.22\n",
      "Epoch: 150 Similar: 0.23\n",
      "Epoch: 160 Similar: 0.24\n",
      "Epoch: 170 Similar: 0.24\n",
      "Epoch: 180 Similar: 0.25\n",
      "Epoch: 190 Similar: 0.25\n",
      "Epoch: 200 Similar: 0.26\n",
      "Epoch: 210 Similar: 0.26\n",
      "Epoch: 220 Similar: 0.26\n",
      "Epoch: 230 Similar: 0.27\n",
      "Epoch: 240 Similar: 0.27\n",
      "Epoch: 250 Similar: 0.28\n",
      "Epoch: 260 Similar: 0.28\n",
      "Epoch: 270 Similar: 0.28\n",
      "Epoch: 280 Similar: 0.28\n",
      "Epoch: 290 Similar: 0.29\n",
      "Epoch: 300 Similar: 0.29\n",
      "Epoch: 310 Similar: 0.29\n",
      "Epoch: 320 Similar: 0.30\n",
      "Epoch: 330 Similar: 0.30\n",
      "Epoch: 340 Similar: 0.30\n",
      "Stopping Similar: 0.30\n"
     ]
    },
    {
     "data": {
      "text/plain": [
       "<embedding.Doc2Vec.GensimDoc2Vec at 0x11b924f60>"
      ]
     },
     "execution_count": 8,
     "metadata": {},
     "output_type": "execute_result"
    }
   ],
   "source": [
    "doc2vec = Doc2Vec(dataset_train.number_of_classes(), size=100, epoch=500)\n",
    "doc2vec.fit(dataset_train.datas, dataset_train.labels, dataset_validate.datas, dataset_validate.labels)\n",
    "# doc2vec.load_model(\"best_now/doc2vec.model\")"
   ]
  },
  {
   "cell_type": "code",
   "execution_count": 9,
   "metadata": {
    "collapsed": true
   },
   "outputs": [],
   "source": [
    "dataset_train.change_to_Doc2Vec(doc2vec)\n",
    "dataset_validate.change_to_Doc2Vec(doc2vec)\n",
    "dataset_test.change_to_Doc2Vec(doc2vec)"
   ]
  },
  {
   "cell_type": "code",
   "execution_count": 10,
   "metadata": {
    "collapsed": true
   },
   "outputs": [],
   "source": [
    "model = AssemblePredicted(\"wipo_d\", dataset_train, dataset_validate, dataset_test, iteration=20000, batch_size=3000, hidden_size=[300,1500,1500,1500], target_hidden_size=[60,60,60], use_dropout=True, start_level=0)"
   ]
  },
  {
   "cell_type": "code",
   "execution_count": 11,
   "metadata": {
    "scrolled": false
   },
   "outputs": [
    {
     "name": "stdout",
     "output_type": "stream",
     "text": [
      "Level: 1.000 Epoch: 666/20000 Batch: 1/1 Loss: 0.068 Training Loss: 0.068 Validate F1 macro: 0.682\n",
      "Level: 1.000 Epoch: 1166/20000 Batch: 1/1 Loss: 0.016 Training Loss: 0.016 Stopping F1 macro: 0.646\n",
      "\n",
      "Level: 2.000 Epoch: 666/20000 Batch: 1/1 Loss: 0.120 Training Loss: 0.120 Validate F1 macro: 0.551\n",
      "Level: 2.000 Epoch: 1166/20000 Batch: 1/1 Loss: 0.063 Training Loss: 0.063 Stopping F1 macro: 0.529\n",
      "\n",
      "Level: 3.000 Epoch: 666/20000 Batch: 1/1 Loss: 0.841 Training Loss: 0.841 Validate F1 macro: 0.076\n",
      "Level: 3.000 Epoch: 1332/20000 Batch: 1/1 Loss: 0.257 Training Loss: 0.257 Validate F1 macro: 0.089\n",
      "Level: 3.000 Epoch: 1641/20000 Batch: 1/1 Loss: 0.183 Training Loss: 0.183 Stopping F1 macro: 0.087\n",
      "\n",
      "Level: 4.000 Epoch: 666/20000 Batch: 1/1 Loss: 1.042  Training Loss: 1.042 Validate F1 macro: 0.006\n",
      "Level: 4.000 Epoch: 1332/20000 Batch: 1/1 Loss: 0.305 Training Loss: 0.305 Validate F1 macro: 0.010\n",
      "Level: 4.000 Epoch: 1998/20000 Batch: 1/1 Loss: 0.160 Training Loss: 0.160 Validate F1 macro: 0.014\n",
      "Level: 4.000 Epoch: 2076/20000 Batch: 1/1 Loss: 0.172 Training Loss: 0.172 Stopping F1 macro: 0.009\n",
      "\n"
     ]
    }
   ],
   "source": [
    "model.train()"
   ]
  },
  {
   "cell_type": "code",
   "execution_count": 12,
   "metadata": {
    "collapsed": true
   },
   "outputs": [],
   "source": [
    "model.tuning_threshold()"
   ]
  },
  {
   "cell_type": "code",
   "execution_count": 13,
   "metadata": {
    "collapsed": true
   },
   "outputs": [],
   "source": [
    "f1_macro, f1_micro, f1_each = model.evaluate(\"test\")"
   ]
  },
  {
   "cell_type": "code",
   "execution_count": 14,
   "metadata": {},
   "outputs": [
    {
     "name": "stdout",
     "output_type": "stream",
     "text": [
      "F1 macro: 0.0902 F1 micro: 0.4892\n"
     ]
    }
   ],
   "source": [
    "print(\"F1 macro: %.4f F1 micro: %.4f\" % (f1_macro, f1_micro))"
   ]
  },
  {
   "cell_type": "code",
   "execution_count": 15,
   "metadata": {},
   "outputs": [
    {
     "name": "stdout",
     "output_type": "stream",
     "text": [
      "Level: 0 F1 macro: 0.6486 F1 micro: 0.7558\n",
      "Level: 1 F1 macro: 0.5543 F1 micro: 0.6007\n",
      "Level: 2 F1 macro: 0.1679 F1 micro: 0.3556\n",
      "Level: 3 F1 macro: 0.0504 F1 micro: 0.2014\n"
     ]
    }
   ],
   "source": [
    "for level, (macro, micro) in enumerate(f1_each):\n",
    "    print(\"Level: %d F1 macro: %.4f F1 micro: %.4f\" % (level, macro, micro))"
   ]
  },
  {
   "cell_type": "code",
   "execution_count": null,
   "metadata": {
    "collapsed": true
   },
   "outputs": [],
   "source": []
  }
 ],
 "metadata": {
  "kernelspec": {
   "display_name": "Python 3",
   "language": "python",
   "name": "python3"
  },
  "language_info": {
   "codemirror_mode": {
    "name": "ipython",
    "version": 3
   },
   "file_extension": ".py",
   "mimetype": "text/x-python",
   "name": "python",
   "nbconvert_exporter": "python",
   "pygments_lexer": "ipython3",
   "version": "3.6.3"
  }
 },
 "nbformat": 4,
 "nbformat_minor": 2
}
