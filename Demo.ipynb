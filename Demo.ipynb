{
 "cells": [
  {
   "cell_type": "code",
   "execution_count": 1,
   "metadata": {
    "collapsed": true
   },
   "outputs": [],
   "source": [
    "from data import preparation\n",
    "import data.hierarchy as hie\n",
    "from sklearn.model_selection import train_test_split"
   ]
  },
  {
   "cell_type": "code",
   "execution_count": 2,
   "metadata": {
    "collapsed": true
   },
   "outputs": [],
   "source": [
    "with open('data/wipo_d/hierarchy.txt', 'w') as f1:\n",
    "    with open('data/wipo_d/wipo_d.ht') as f:\n",
    "        for l in f:\n",
    "            split = l.strip().split(':')\n",
    "            p = split[0]\n",
    "            c = split[1].split(',')\n",
    "            for cc in c:\n",
    "                f1.write('%s %s\\n'% (p,cc))"
   ]
  },
  {
   "cell_type": "code",
   "execution_count": 3,
   "metadata": {
    "collapsed": true
   },
   "outputs": [],
   "source": [
    "data_name = \"wipo_d\""
   ]
  },
  {
   "cell_type": "code",
   "execution_count": 4,
   "metadata": {
    "collapsed": true
   },
   "outputs": [],
   "source": [
    "hierarchy, parent_of, all_name, name_to_index, level = hie.reindex_hierarchy(\n",
    "                '%s/hierarchy.txt' % data_name)\n",
    "hie.save_hierarchy(\"%s/hierarchy.pickle\" % data_name, hierarchy,\n",
    "                   parent_of, all_name, name_to_index, level)"
   ]
  },
  {
   "cell_type": "code",
   "execution_count": 5,
   "metadata": {
    "collapsed": true
   },
   "outputs": [],
   "source": [
    "for mode in ['train', 'test']:\n",
    "    for i in range(1,6):\n",
    "        datas, labels = preparation.import_data('wipo_d/folds/wipo_d_fold%d.dat.%s' % (i, mode))\n",
    "        new_labels = preparation.map_index_of_label('wipo_d/hierarchy.pickle', labels)\n",
    "        if mode == 'train':\n",
    "            train_data, validate_data, train_target, validate_target = train_test_split(\n",
    "                datas, new_labels, test_size=0.1, random_state=12345)\n",
    "            preparation.save_data_in_pickle('wipo_d/fold/data_%d.pickle.%s' % (i, mode), train_data, train_target)\n",
    "            preparation.save_data_in_pickle('wipo_d/fold/data_%d.pickle.%s' % (i, \"validate\"), validate_data, validate_target)\n",
    "        else:\n",
    "            preparation.save_data_in_pickle('wipo_d/fold/data_%d.pickle.%s' % (i, mode), datas, new_labels)"
   ]
  },
  {
   "cell_type": "markdown",
   "metadata": {},
   "source": [
    "# Real Flow "
   ]
  },
  {
   "cell_type": "code",
   "execution_count": 6,
   "metadata": {
    "collapsed": true
   },
   "outputs": [],
   "source": [
    "from data import Dataset\n",
    "from embedding import Doc2Vec\n",
    "from assemble_classifier import AssembleNoLabel, AssemblePredicted\n",
    "%load_ext autoreload\n",
    "%autoreload 2"
   ]
  },
  {
   "cell_type": "code",
   "execution_count": 14,
   "metadata": {
    "collapsed": true
   },
   "outputs": [],
   "source": [
    "dataset_train = Dataset(\"wipo_d\", 1, \"train\", state='embedding')\n",
    "dataset_validate = Dataset(\"wipo_d\", 1, \"validate\", state='embedding')\n",
    "dataset_test = Dataset(\"wipo_d\", 1, \"test\", state='embedding')"
   ]
  },
  {
   "cell_type": "code",
   "execution_count": 17,
   "metadata": {
    "scrolled": true
   },
   "outputs": [],
   "source": [
    "# doc2vec = Doc2Vec(dataset_train.number_of_classes(), size=100, epoch=500)\n",
    "# doc2vec.fit(dataset_train.datas, dataset_train.labels, dataset_validate.datas, dataset_validate.labels)\n",
    "# doc2vec.load_model(\"best_now/doc2vec.model\")"
   ]
  },
  {
   "cell_type": "code",
   "execution_count": 18,
   "metadata": {
    "collapsed": true
   },
   "outputs": [],
   "source": [
    "# dataset_train.change_to_Doc2Vec(doc2vec)\n",
    "# dataset_validate.change_to_Doc2Vec(doc2vec)\n",
    "# dataset_test.change_to_Doc2Vec(doc2vec)"
   ]
  },
  {
   "cell_type": "code",
   "execution_count": 19,
   "metadata": {},
   "outputs": [],
   "source": [
    "model = AssemblePredicted(\"wipo_d\", dataset_train, dataset_validate, dataset_test, iteration=20000, batch_size=3000, hidden_size=[300,1500,1500,1500], target_hidden_size=[60,60,60], use_dropout=True, start_level=0)"
   ]
  },
  {
   "cell_type": "code",
   "execution_count": 20,
   "metadata": {
    "scrolled": false
   },
   "outputs": [
    {
     "name": "stdout",
     "output_type": "stream",
     "text": [
      "Level: 1.000 Epoch: 666/20000 Batch: 1/1 Loss: 0.051 Training Loss: 0.051 Validate F1 macro: 0.638\n",
      "Level: 1.000 Epoch: 1166/20000 Batch: 1/1 Loss: 0.012 Training Loss: 0.012 Stopping F1 macro: 0.601\n",
      "\n",
      "Level: 2.000 Epoch: 666/20000 Batch: 1/1 Loss: 0.108 Training Loss: 0.108 Validate F1 macro: 0.544\n",
      "Level: 2.000 Epoch: 1166/20000 Batch: 1/1 Loss: 0.064 Training Loss: 0.064 Stopping F1 macro: 0.515\n",
      "\n",
      "Level: 3.000 Epoch: 666/20000 Batch: 1/1 Loss: 0.625 Training Loss: 0.625 Validate F1 macro: 0.089\n",
      "Level: 3.000 Epoch: 1183/20000 Batch: 1/1 Loss: 0.256 Training Loss: 0.256 Stopping F1 macro: 0.078\n",
      "\n",
      "Level: 4.000 Epoch: 666/20000 Batch: 1/1 Loss: 0.889  Training Loss: 0.889 Validate F1 macro: 0.008\n",
      "Level: 4.000 Epoch: 1332/20000 Batch: 1/1 Loss: 0.233 Training Loss: 0.233 Validate F1 macro: 0.014\n",
      "Level: 4.000 Epoch: 1510/20000 Batch: 1/1 Loss: 0.185 Training Loss: 0.185 Stopping F1 macro: 0.012\n",
      "\n"
     ]
    }
   ],
   "source": [
    "model.train()"
   ]
  },
  {
   "cell_type": "code",
   "execution_count": 21,
   "metadata": {
    "collapsed": true
   },
   "outputs": [],
   "source": [
    "model.tuning_threshold()"
   ]
  },
  {
   "cell_type": "code",
   "execution_count": 22,
   "metadata": {
    "collapsed": true
   },
   "outputs": [],
   "source": [
    "f1_macro, f1_micro, f1_each = model.evaluate(\"test\")"
   ]
  },
  {
   "cell_type": "code",
   "execution_count": 23,
   "metadata": {},
   "outputs": [
    {
     "name": "stdout",
     "output_type": "stream",
     "text": [
      "F1 macro: 0.0915 F1 micro: 0.4824\n"
     ]
    }
   ],
   "source": [
    "print(\"F1 macro: %.4f F1 micro: %.4f\" % (f1_macro, f1_micro))"
   ]
  },
  {
   "cell_type": "code",
   "execution_count": 24,
   "metadata": {},
   "outputs": [
    {
     "name": "stdout",
     "output_type": "stream",
     "text": [
      "Level: 0 F1 macro: 0.6065 F1 micro: 0.7408\n",
      "Level: 1 F1 macro: 0.5631 F1 micro: 0.6094\n",
      "Level: 2 F1 macro: 0.1572 F1 micro: 0.3576\n",
      "Level: 3 F1 macro: 0.0550 F1 micro: 0.2054\n"
     ]
    }
   ],
   "source": [
    "for level, (macro, micro) in enumerate(f1_each):\n",
    "    print(\"Level: %d F1 macro: %.4f F1 micro: %.4f\" % (level, macro, micro))"
   ]
  },
  {
   "cell_type": "code",
   "execution_count": null,
   "metadata": {
    "collapsed": true
   },
   "outputs": [],
   "source": []
  }
 ],
 "metadata": {
  "kernelspec": {
   "display_name": "Python 3",
   "language": "python",
   "name": "python3"
  },
  "language_info": {
   "codemirror_mode": {
    "name": "ipython",
    "version": 3
   },
   "file_extension": ".py",
   "mimetype": "text/x-python",
   "name": "python",
   "nbconvert_exporter": "python",
   "pygments_lexer": "ipython3",
   "version": "3.6.3"
  }
 },
 "nbformat": 4,
 "nbformat_minor": 2
}
