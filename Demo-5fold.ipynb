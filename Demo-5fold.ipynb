{
 "cells": [
  {
   "cell_type": "code",
   "execution_count": 1,
   "metadata": {
    "collapsed": true
   },
   "outputs": [],
   "source": [
    "from data import preparation\n",
    "import data.hierarchy as hie\n",
    "from sklearn.model_selection import train_test_split"
   ]
  },
  {
   "cell_type": "code",
   "execution_count": 2,
   "metadata": {
    "collapsed": true
   },
   "outputs": [],
   "source": [
    "data_name = \"wipo_c\""
   ]
  },
  {
   "cell_type": "code",
   "execution_count": 3,
   "metadata": {
    "collapsed": true
   },
   "outputs": [],
   "source": [
    "with open('data/%s/hierarchy.txt' % data_name, 'w') as f1:\n",
    "    with open('data/%s/%s.ht' % (data_name,data_name)) as f:\n",
    "        for l in f:\n",
    "            split = l.strip().split(':')\n",
    "            p = split[0]\n",
    "            c = split[1].split(',')\n",
    "            for cc in c:\n",
    "                f1.write('%s %s\\n'% (p,cc))"
   ]
  },
  {
   "cell_type": "code",
   "execution_count": 4,
   "metadata": {
    "collapsed": true
   },
   "outputs": [],
   "source": [
    "hierarchy, parent_of, all_name, name_to_index, level = hie.reindex_hierarchy(\n",
    "                '%s/hierarchy.txt' % data_name)\n",
    "hie.save_hierarchy(\"%s/hierarchy.pickle\" % data_name, hierarchy,\n",
    "                   parent_of, all_name, name_to_index, level)"
   ]
  },
  {
   "cell_type": "code",
   "execution_count": 5,
   "metadata": {
    "collapsed": true
   },
   "outputs": [],
   "source": [
    "for mode in ['train', 'test']:\n",
    "    for i in range(1,6):\n",
    "        datas, labels = preparation.import_data('%s/folds/%s_fold%d.dat.%s' % (data_name, data_name, i, mode))\n",
    "        new_labels = preparation.map_index_of_label('%s/hierarchy.pickle' % data_name, labels)\n",
    "        if mode == 'train':\n",
    "            train_data, validate_data, train_target, validate_target = train_test_split(\n",
    "                datas, new_labels, test_size=0.1, random_state=12345)\n",
    "            preparation.save_data_in_pickle('%s/fold/data_%d.pickle.%s' % (data_name, i, mode), train_data, train_target)\n",
    "            preparation.save_data_in_pickle('%s/fold/data_%d.pickle.%s' % (data_name, i, \"validate\"), validate_data, validate_target)\n",
    "        else:\n",
    "            preparation.save_data_in_pickle('%s/fold/data_%d.pickle.%s' % (data_name, i, mode), datas, new_labels)"
   ]
  },
  {
   "cell_type": "code",
   "execution_count": 6,
   "metadata": {},
   "outputs": [
    {
     "name": "stdout",
     "output_type": "stream",
     "text": [
      "17\n",
      "56\n",
      "852\n",
      "4741\n"
     ]
    }
   ],
   "source": [
    "for i in range(len(level)-1):\n",
    "    print(level[i+1] - level[i])"
   ]
  },
  {
   "cell_type": "markdown",
   "metadata": {},
   "source": [
    "# Real Flow "
   ]
  },
  {
   "cell_type": "code",
   "execution_count": 7,
   "metadata": {
    "collapsed": true
   },
   "outputs": [],
   "source": [
    "from data import Dataset\n",
    "from embedding import Doc2Vec, NoTag_Doc2Vec, OnlyLeafDoc2Vec\n",
    "from assemble_classifier import AssembleNoLabel, AssemblePredicted,AssemblePredictedHidden ,AssemblePredictedHiddenAdd\n",
    "import shutil\n",
    "import os\n",
    "\n",
    "%load_ext autoreload\n",
    "%autoreload 2"
   ]
  },
  {
   "cell_type": "code",
   "execution_count": 8,
   "metadata": {},
   "outputs": [],
   "source": [
    "shl_M = []\n",
    "shl_m = []\n",
    "new_M = []\n",
    "new_m = []"
   ]
  },
  {
   "cell_type": "code",
   "execution_count": 9,
   "metadata": {},
   "outputs": [],
   "source": [
    "shl_f1 = []\n",
    "new_f1 = []"
   ]
  },
  {
   "cell_type": "code",
   "execution_count": 10,
   "metadata": {},
   "outputs": [
    {
     "name": "stdout",
     "output_type": "stream",
     "text": [
      "\n",
      "\n",
      "train doc2vec\n",
      "Doc2Vec by Gensim\n",
      "0.125\n",
      "Epoch: 180 Similar: 0.12380\n",
      "train main classifier\n",
      "evaluate\n",
      "F1 macro: 0.0328 F1 micro: 0.3636\n",
      "Level: 0 F1 macro: 0.5958 F1 micro: 0.6506\n",
      "Level: 1 F1 macro: 0.4233 F1 micro: 0.4715\n",
      "Level: 2 F1 macro: 0.0810 F1 micro: 0.2058\n",
      "Level: 3 F1 macro: 0.0175 F1 micro: 0.1202\n",
      "\n",
      "\n",
      "train doc2vec\n",
      "Doc2Vec by Gensim\n",
      "0.125\n",
      "Epoch: 180 Similar: 0.12715\n",
      "train main classifier\n",
      "evaluate\n",
      "F1 macro: 0.0310 F1 micro: 0.3773\n",
      "Level: 0 F1 macro: 0.5972 F1 micro: 0.6550\n",
      "Level: 1 F1 macro: 0.4286 F1 micro: 0.4882\n",
      "Level: 2 F1 macro: 0.0783 F1 micro: 0.2331\n",
      "Level: 3 F1 macro: 0.0157 F1 micro: 0.1051\n",
      "\n",
      "\n",
      "train doc2vec\n",
      "Doc2Vec by Gensim\n",
      "0.125\n",
      "Epoch: 180 Similar: 0.12305\n",
      "train main classifier\n",
      "evaluate\n",
      "F1 macro: 0.0305 F1 micro: 0.3576\n",
      "Level: 0 F1 macro: 0.5700 F1 micro: 0.6456\n",
      "Level: 1 F1 macro: 0.4131 F1 micro: 0.4604\n",
      "Level: 2 F1 macro: 0.0790 F1 micro: 0.2025\n",
      "Level: 3 F1 macro: 0.0153 F1 micro: 0.1079\n",
      "\n",
      "\n",
      "train doc2vec\n",
      "Doc2Vec by Gensim\n",
      "0.125\n",
      "Epoch: 180 Similar: 0.13159\n",
      "train main classifier\n",
      "evaluate\n",
      "F1 macro: 0.0302 F1 micro: 0.3547\n",
      "Level: 0 F1 macro: 0.5582 F1 micro: 0.6366\n",
      "Level: 1 F1 macro: 0.3926 F1 micro: 0.4627\n",
      "Level: 2 F1 macro: 0.0798 F1 micro: 0.2004\n",
      "Level: 3 F1 macro: 0.0151 F1 micro: 0.1098\n",
      "\n",
      "\n",
      "train doc2vec\n",
      "Doc2Vec by Gensim\n",
      "0.125\n",
      "Epoch: 180 Similar: 0.12824\n",
      "train main classifier\n",
      "evaluate\n",
      "F1 macro: 0.0312 F1 micro: 0.3879\n",
      "Level: 0 F1 macro: 0.5889 F1 micro: 0.6575\n",
      "Level: 1 F1 macro: 0.4164 F1 micro: 0.4850\n",
      "Level: 2 F1 macro: 0.0790 F1 micro: 0.2431\n",
      "Level: 3 F1 macro: 0.0160 F1 micro: 0.1107\n",
      "CPU times: user 1h 52min 8s, sys: 40min 32s, total: 2h 32min 40s\n",
      "Wall time: 1h 40min 40s\n"
     ]
    }
   ],
   "source": [
    "%%time\n",
    "for fold in range(1, 6):\n",
    "    print()\n",
    "    print()\n",
    "\n",
    "    dataset_train = Dataset(data_name, fold, \"train\")\n",
    "    dataset_validate = Dataset(data_name, fold, \"validate\")\n",
    "    dataset_test = Dataset(data_name, fold, \"test\")\n",
    "\n",
    "    print(\"train doc2vec\")\n",
    "    doc2vec = OnlyLeafDoc2Vec(dataset_train.number_of_classes(), size=150, epoch=180, batch_size=10000)\n",
    "    doc2vec.fit(dataset_train.datas, dataset_train.labels, dataset_validate.datas, dataset_validate.labels, early_stopping=False, one_time=True)\n",
    "\n",
    "    dataset_train.change_to_Doc2Vec(doc2vec)\n",
    "    dataset_validate.change_to_Doc2Vec(doc2vec)\n",
    "    dataset_test.change_to_Doc2Vec(doc2vec)\n",
    "    \n",
    "    print(\"train main classifier\")\n",
    "    if os.path.isdir('data/%s/output' % data_name):\n",
    "        shutil.rmtree('data/%s/output' % data_name)\n",
    "#     model = AssemblePredicted(data_name, dataset_train, dataset_validate, dataset_test, iteration=2000, stopping_time=200, batch_size=65536, hidden_size=[300,1500,2000,2500], target_hidden_size=[60,100,150], use_dropout=True, start_level=0)\n",
    "    model = AssemblePredictedHidden(data_name, dataset_train, dataset_validate, dataset_test, iteration=20000, batch_size=2000, hidden_size=[300,1500,1500,1500], use_dropout=True, start_level=0, end_level=100)\n",
    "    model.train(verbose=False)\n",
    "    model.tuning_threshold()\n",
    "    print(\"evaluate\")\n",
    "    f1_macro, f1_micro, f1_each = model.evaluate(\"test\", correction=True)\n",
    "    shl_M.append(f1_macro)\n",
    "    shl_m.append(f1_micro)\n",
    "    shl_f1.append(f1_each)\n",
    "    print(\"F1 macro: %.4f F1 micro: %.4f\" % (f1_macro, f1_micro))\n",
    "    for level, (macro, micro) in enumerate(f1_each):\n",
    "        print(\"Level: %d F1 macro: %.4f F1 micro: %.4f\" % (level, macro, micro))\n",
    "        \n",
    "#     print(\"train main classifier\")\n",
    "#     if os.path.isdir('data/%s/output' % data_name):\n",
    "#         shutil.rmtree('data/%s/output' % data_name)\n",
    "#     model = AssemblePredicted(data_name, dataset_train, dataset_validate, dataset_test, iteration=2000, stopping_time=200, batch_size=65536, hidden_size=[300,1500,1500,1500], target_hidden_size=[60,60,60], use_dropout=True, start_level=0)\n",
    "# #     model = AssemblePredictedHidden(data_name, dataset_train, dataset_validate, dataset_test, iteration=20000, batch_size=2000, hidden_size=[300,1500,2000,2500], use_dropout=True, start_level=0, end_level=100)\n",
    "#     model.train(verbose=False)\n",
    "#     model.tuning_threshold()\n",
    "#     print(\"evaluate\")\n",
    "#     f1_macro, f1_micro, f1_each = model.evaluate(\"test\", correction=True)\n",
    "#     new_M.append(f1_macro)\n",
    "#     new_m.append(f1_micro)\n",
    "#     new_f1.append(f1_each)\n",
    "#     print(\"F1 macro: %.4f F1 micro: %.4f\" % (f1_macro, f1_micro))\n",
    "#     for level, (macro, micro) in enumerate(f1_each):\n",
    "#         print(\"Level: %d F1 macro: %.4f F1 micro: %.4f\" % (level, macro, micro))\n",
    "     "
   ]
  },
  {
   "cell_type": "code",
   "execution_count": 11,
   "metadata": {},
   "outputs": [
    {
     "name": "stdout",
     "output_type": "stream",
     "text": [
      "[0. 0. 0. 0.]\n",
      "[0. 0. 0. 0.]\n"
     ]
    }
   ],
   "source": [
    "import numpy as np\n",
    "each_M = np.array([0.] * 4)\n",
    "each_m = np.array([0.] * 4)\n",
    "for i in new_f1:\n",
    "    t = np.array(i).transpose()\n",
    "    each_M += t[0]\n",
    "    each_m += t[1]\n",
    "print(each_M / 5)\n",
    "print(each_m / 5)"
   ]
  },
  {
   "cell_type": "code",
   "execution_count": 12,
   "metadata": {},
   "outputs": [
    {
     "name": "stdout",
     "output_type": "stream",
     "text": [
      "[0.58202691 0.41477769 0.07942368 0.01594262]\n",
      "[0.64905866 0.47355759 0.2169923  0.11074485]\n"
     ]
    }
   ],
   "source": [
    "import numpy as np\n",
    "each_M = np.array([0.] * 4)\n",
    "each_m = np.array([0.] * 4)\n",
    "for i in shl_f1:\n",
    "    t = np.array(i).transpose()\n",
    "    each_M += t[0]\n",
    "    each_m += t[1]\n",
    "print(each_M / 5)\n",
    "print(each_m / 5)"
   ]
  },
  {
   "cell_type": "code",
   "execution_count": 13,
   "metadata": {
    "collapsed": true
   },
   "outputs": [
    {
     "name": "stdout",
     "output_type": "stream",
     "text": [
      "0.3682063591279386\n",
      "0.0\n"
     ]
    }
   ],
   "source": [
    "print(sum(shl_m) / 5)\n",
    "print(sum(new_m) / 5)"
   ]
  },
  {
   "cell_type": "code",
   "execution_count": 14,
   "metadata": {},
   "outputs": [
    {
     "name": "stdout",
     "output_type": "stream",
     "text": [
      "0.03112865760922432\n",
      "0.0\n"
     ]
    }
   ],
   "source": [
    "print(sum(shl_M) / 5)\n",
    "print(sum(new_M) / 5)"
   ]
  },
  {
   "cell_type": "code",
   "execution_count": null,
   "metadata": {},
   "outputs": [],
   "source": []
  }
 ],
 "metadata": {
  "kernelspec": {
   "display_name": "Python 3",
   "language": "python",
   "name": "python3"
  },
  "language_info": {
   "codemirror_mode": {
    "name": "ipython",
    "version": 3
   },
   "file_extension": ".py",
   "mimetype": "text/x-python",
   "name": "python",
   "nbconvert_exporter": "python",
   "pygments_lexer": "ipython3",
   "version": "3.6.4"
  }
 },
 "nbformat": 4,
 "nbformat_minor": 2
}
