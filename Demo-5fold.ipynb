{
 "cells": [
  {
   "cell_type": "code",
   "execution_count": 1,
   "metadata": {
    "collapsed": true
   },
   "outputs": [],
   "source": [
    "from data import preparation\n",
    "import data.hierarchy as hie\n",
    "from sklearn.model_selection import train_test_split"
   ]
  },
  {
   "cell_type": "code",
   "execution_count": 2,
   "metadata": {
    "collapsed": true
   },
   "outputs": [],
   "source": [
    "data_name = \"wiki_small\""
   ]
  },
  {
   "cell_type": "code",
   "execution_count": 3,
   "metadata": {
    "collapsed": true
   },
   "outputs": [],
   "source": [
    "with open('data/%s/hierarchy.txt' % data_name, 'w') as f1:\n",
    "    with open('data/%s/%s.ht' % (data_name,data_name)) as f:\n",
    "        for l in f:\n",
    "            split = l.strip().split(':')\n",
    "            p = split[0]\n",
    "            c = split[1].split(',')\n",
    "            for cc in c:\n",
    "                f1.write('%s %s\\n'% (p,cc))"
   ]
  },
  {
   "cell_type": "code",
   "execution_count": 4,
   "metadata": {
    "collapsed": true
   },
   "outputs": [],
   "source": [
    "hierarchy, parent_of, all_name, name_to_index, level = hie.reindex_hierarchy(\n",
    "                '%s/hierarchy.txt' % data_name)\n",
    "hie.save_hierarchy(\"%s/hierarchy.pickle\" % data_name, hierarchy,\n",
    "                   parent_of, all_name, name_to_index, level)"
   ]
  },
  {
   "cell_type": "code",
   "execution_count": 5,
   "metadata": {
    "collapsed": true
   },
   "outputs": [],
   "source": [
    "# for mode in ['train', 'test']:\n",
    "#     for i in range(1,6):\n",
    "#         datas, labels = preparation.import_data('%s/folds/%s_fold%d.dat.%s' % (data_name, data_name, i, mode))\n",
    "#         new_labels = preparation.map_index_of_label('%s/hierarchy.pickle' % data_name, labels)\n",
    "#         if mode == 'train':\n",
    "#             train_data, validate_data, train_target, validate_target = train_test_split(\n",
    "#                 datas, new_labels, test_size=0.1, random_state=12345)\n",
    "#             preparation.save_data_in_pickle('%s/fold/data_%d.pickle.%s' % (data_name, i, mode), train_data, train_target)\n",
    "#             preparation.save_data_in_pickle('%s/fold/data_%d.pickle.%s' % (data_name, i, \"validate\"), validate_data, validate_target)\n",
    "#         else:\n",
    "#             preparation.save_data_in_pickle('%s/fold/data_%d.pickle.%s' % (data_name, i, mode), datas, new_labels)"
   ]
  },
  {
   "cell_type": "code",
   "execution_count": 6,
   "metadata": {
    "collapsed": true
   },
   "outputs": [],
   "source": [
    "hierarchy, parent_of, all_name, name_to_index, level_array = hie.reindex_hierarchy(\n",
    "                '%s/new_hierarchy.txt' % data_name)\n",
    "hie.save_hierarchy(\"%s/hierarchy.pickle\" % data_name, hierarchy,\n",
    "                   parent_of, all_name, name_to_index, level_array)"
   ]
  },
  {
   "cell_type": "code",
   "execution_count": 7,
   "metadata": {},
   "outputs": [
    {
     "name": "stdout",
     "output_type": "stream",
     "text": [
      "18\n",
      "281\n",
      "1055\n",
      "1884\n"
     ]
    }
   ],
   "source": [
    "for i in range(len(level_array)-1):\n",
    "    print(level_array[i+1] - level_array[i])"
   ]
  },
  {
   "cell_type": "code",
   "execution_count": 8,
   "metadata": {
    "collapsed": true
   },
   "outputs": [],
   "source": [
    "level = level_array"
   ]
  },
  {
   "cell_type": "markdown",
   "metadata": {},
   "source": [
    "# Real Flow "
   ]
  },
  {
   "cell_type": "code",
   "execution_count": null,
   "metadata": {},
   "outputs": [],
   "source": [
    "from data import Dataset\n",
    "from embedding import Doc2Vec, NoTag_Doc2Vec, OnlyLeafDoc2Vec\n",
    "from assemble_classifier import AssembleNoLabel, AssemblePredicted,AssemblePredictedHidden ,AssemblePredictedHiddenAdd\n",
    "import shutil\n",
    "import os\n",
    "\n",
    "%load_ext autoreload\n",
    "%autoreload 2"
   ]
  },
  {
   "cell_type": "code",
   "execution_count": null,
   "metadata": {
    "scrolled": true
   },
   "outputs": [
    {
     "name": "stdout",
     "output_type": "stream",
     "text": [
      "\n",
      "\n",
      "train doc2vec\n",
      "Doc2Vec by Gensim\n",
      "0.125\n",
      "Epoch: 180 Similar: 0.07492\n",
      "train main classifier\n",
      "evaluate\n",
      "F1 macro: 0.2076 F1 micro: 0.2814\n",
      "Level: 0 F1 macro: 0.2344 F1 micro: 0.2688\n",
      "Level: 1 F1 macro: 0.2115 F1 micro: 0.2322\n",
      "Level: 2 F1 macro: 0.2234 F1 micro: 0.2951\n",
      "Level: 3 F1 macro: 0.1979 F1 micro: 0.3921\n",
      "train main classifier\n"
     ]
    }
   ],
   "source": [
    "%%time\n",
    "shl_M = []\n",
    "shl_m = []\n",
    "new_M = []\n",
    "new_m = []\n",
    "shl_f1 = []\n",
    "new_f1 = []\n",
    "for fold in range(4, 6):\n",
    "    print()\n",
    "    print()\n",
    "\n",
    "    dataset_train = Dataset(data_name, fold, \"train\")\n",
    "    dataset_validate = Dataset(data_name, fold, \"validate\")\n",
    "    dataset_test = Dataset(data_name, fold, \"test\")\n",
    "    \n",
    "    dataset_train.delete_label_more(level[-1])\n",
    "    dataset_validate.delete_label_more(level[-1])\n",
    "    dataset_test.delete_label_more(level[-1])\n",
    "    \n",
    "    print(\"train doc2vec\")\n",
    "    doc2vec = Doc2Vec(dataset_train.number_of_classes(), size=150, epoch=180, batch_size=10000)\n",
    "#     if os.path.isdir('best_now/doc2vec_wiki_small_%d/' % fold):\n",
    "#         os.makedirs(directory)\n",
    "#         doc2vec.load_model(\"best_now/doc2vec_wiki_small_%d/180.model\" % fold)\n",
    "#     else:\n",
    "    doc2vec.fit(dataset_train.datas, dataset_train.labels, dataset_validate.datas, dataset_validate.labels, early_stopping=False, one_time=True, fold=fold)\n",
    "\n",
    "    dataset_train.change_to_Doc2Vec(doc2vec)\n",
    "    dataset_validate.change_to_Doc2Vec(doc2vec)\n",
    "    dataset_test.change_to_Doc2Vec(doc2vec)\n",
    "    \n",
    "    print(\"train main classifier\")\n",
    "    if os.path.isdir('data/%s/output' % data_name):\n",
    "        shutil.rmtree('data/%s/output' % data_name)\n",
    "#     model = AssemblePredicted(data_name, dataset_train, dataset_validate, dataset_test, iteration=2000, stopping_time=200, batch_size=65536, hidden_size=[300,1500,2000,2500], target_hidden_size=[60,100,150], use_dropout=True, start_level=0)\n",
    "    model = AssemblePredictedHidden(data_name, dataset_train, dataset_validate, dataset_test, iteration=3000, batch_size=600, hidden_size=[300,1500,1500,1500], use_dropout=True, start_level=0, end_level=100)\n",
    "    model.train(verbose=False)\n",
    "    model.tuning_threshold()\n",
    "    print(\"evaluate\")\n",
    "    f1_macro, f1_micro, f1_each = model.evaluate(\"test\", correction=True)\n",
    "    shl_M.append(f1_macro)\n",
    "    shl_m.append(f1_micro)\n",
    "    shl_f1.append(f1_each)\n",
    "    print(\"F1 macro: %.4f F1 micro: %.4f\" % (f1_macro, f1_micro))\n",
    "    for l, (macro, micro) in enumerate(f1_each):\n",
    "        print(\"Level: %d F1 macro: %.4f F1 micro: %.4f\" % (l, macro, micro))\n",
    "        \n",
    "    print(\"train main classifier\")\n",
    "    if os.path.isdir('data/%s/output' % data_name):\n",
    "        shutil.rmtree('data/%s/output' % data_name)\n",
    "    model = AssemblePredicted(data_name, dataset_train, dataset_validate, dataset_test, iteration=3000, stopping_time=600, batch_size=65536, hidden_size=[336,862,2310,3000], target_hidden_size=[100,100,100], use_dropout=True, start_level=0)\n",
    "#     model = AssemblePredictedHidden(data_name, dataset_train, dataset_validate, dataset_test, iteration=20000, batch_size=2000, hidden_size=[300,1500,2000,2500], use_dropout=True, start_level=0, end_level=100)\n",
    "    model.train(verbose=False)\n",
    "    model.tuning_threshold()\n",
    "    print(\"evaluate\")\n",
    "    f1_macro, f1_micro, f1_each = model.evaluate(\"test\", correction=True)\n",
    "    new_M.append(f1_macro)\n",
    "    new_m.append(f1_micro)\n",
    "    new_f1.append(f1_each)\n",
    "    print(\"F1 macro: %.4f F1 micro: %.4f\" % (f1_macro, f1_micro))\n",
    "    for l, (macro, micro) in enumerate(f1_each):\n",
    "        print(\"Level: %d F1 macro: %.4f F1 micro: %.4f\" % (l, macro, micro))\n",
    "     "
   ]
  },
  {
   "cell_type": "code",
   "execution_count": null,
   "metadata": {},
   "outputs": [],
   "source": [
    "import numpy as np\n",
    "each_M = np.array([0.] * 4)\n",
    "each_m = np.array([0.] * 4)\n",
    "for i in new_f1:\n",
    "    t = np.array(i).transpose()\n",
    "    each_M += t[0]\n",
    "    each_m += t[1]\n",
    "print(each_M)\n",
    "print(each_m)"
   ]
  },
  {
   "cell_type": "code",
   "execution_count": null,
   "metadata": {},
   "outputs": [],
   "source": [
    "import numpy as np\n",
    "each_M = np.array([0.] * 4)\n",
    "each_m = np.array([0.] * 4)\n",
    "for i in shl_f1:\n",
    "    t = np.array(i).transpose()\n",
    "    each_M += t[0]\n",
    "    each_m += t[1]\n",
    "print(each_M)\n",
    "print(each_m)"
   ]
  },
  {
   "cell_type": "code",
   "execution_count": null,
   "metadata": {},
   "outputs": [],
   "source": [
    "print(sum(shl_m))\n",
    "print(sum(new_m))"
   ]
  },
  {
   "cell_type": "code",
   "execution_count": null,
   "metadata": {},
   "outputs": [],
   "source": [
    "print(sum(shl_M))\n",
    "print(sum(new_M))"
   ]
  },
  {
   "cell_type": "code",
   "execution_count": null,
   "metadata": {
    "collapsed": true
   },
   "outputs": [],
   "source": []
  },
  {
   "cell_type": "code",
   "execution_count": null,
   "metadata": {
    "collapsed": true
   },
   "outputs": [],
   "source": []
  }
 ],
 "metadata": {
  "kernelspec": {
   "display_name": "Python 3",
   "language": "python",
   "name": "python3"
  },
  "language_info": {
   "codemirror_mode": {
    "name": "ipython",
    "version": 3
   },
   "file_extension": ".py",
   "mimetype": "text/x-python",
   "name": "python",
   "nbconvert_exporter": "python",
   "pygments_lexer": "ipython3",
   "version": "3.6.1"
  }
 },
 "nbformat": 4,
 "nbformat_minor": 2
}
