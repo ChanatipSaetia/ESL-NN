{
 "cells": [
  {
   "cell_type": "markdown",
   "metadata": {},
   "source": [
    "# Real Flow "
   ]
  },
  {
   "cell_type": "code",
   "execution_count": 1,
   "metadata": {
    "collapsed": true
   },
   "outputs": [],
   "source": [
    "from data import Dataset\n",
    "from embedding import Doc2Vec, NoTag_Doc2Vec, OnlyLeafDoc2Vec\n",
    "from assemble_classifier import AssemblePredicted, AssemblePredictedHidden, AssemblePredictedHiddenAdd\n",
    "import shutil\n",
    "import os\n",
    "import numpy as np\n",
    "import json"
   ]
  },
  {
   "cell_type": "code",
   "execution_count": 2,
   "metadata": {
    "collapsed": true
   },
   "outputs": [],
   "source": [
    "config = json.load(open('config.json'))\n",
    "data_name = config['data_name']\n",
    "train_file_name = config['train_file_name']\n",
    "test_file_name = config['test_file_name']\n",
    "classification_type = config['classification_type']\n",
    "test_split = config['test_split']\n",
    "predict_test = config['predict_test']\n",
    "evaluate_test = config['evaluate_test']\n",
    "correction = config['correction']\n",
    "mandatory_leaf = config['mandatory_leaf']\n",
    "hidden = config['hidden']\n",
    "target_hidden = config['target_hidden']\n",
    "embedding_size = config['embedding_size']\n",
    "embedding_type = config['embedding_type']"
   ]
  },
  {
   "cell_type": "code",
   "execution_count": 3,
   "metadata": {},
   "outputs": [
    {
     "name": "stdout",
     "output_type": "stream",
     "text": [
      "---------------Preprocessing-----------------\n"
     ]
    }
   ],
   "source": [
    "print(\"---------------Preprocessing-----------------\")"
   ]
  },
  {
   "cell_type": "code",
   "execution_count": 4,
   "metadata": {},
   "outputs": [],
   "source": [
    "if classification_type == \"multi-class\":\n",
    "    mandatory_leaf = True\n",
    "elif classification_type == \"multi-label\":\n",
    "    mandatory_leaf = False"
   ]
  },
  {
   "cell_type": "code",
   "execution_count": 5,
   "metadata": {},
   "outputs": [],
   "source": [
    "if not os.path.isdir('export/%s' % data_name):\n",
    "    os.makedirs('export/%s' % data_name)"
   ]
  },
  {
   "cell_type": "code",
   "execution_count": 6,
   "metadata": {
    "collapsed": true
   },
   "outputs": [],
   "source": [
    "if os.path.isdir('data/%s/output' % data_name):\n",
    "    shutil.rmtree('data/%s/output' % data_name)\n",
    "if os.path.isdir('data/%s/store' % data_name):\n",
    "    shutil.rmtree('data/%s/store' % data_name)"
   ]
  },
  {
   "cell_type": "code",
   "execution_count": 7,
   "metadata": {
    "collapsed": true
   },
   "outputs": [],
   "source": [
    "dataset_train = Dataset(data_name, \"train\", test_split=test_split, classification_type=classification_type, data_file_name=train_file_name)\n",
    "dataset_validate = Dataset(data_name, \"validate\", test_split=test_split, classification_type=classification_type, data_file_name=train_file_name)\n",
    "if (test_split or predict_test or evaluate_test):\n",
    "    dataset_test = Dataset(data_name, \"test\", test_split=test_split, classification_type=classification_type, data_file_name=test_file_name)\n",
    "else:\n",
    "    dataset_test = \"temp\""
   ]
  },
  {
   "cell_type": "code",
   "execution_count": 8,
   "metadata": {},
   "outputs": [
    {
     "name": "stdout",
     "output_type": "stream",
     "text": [
      "---------------Training document embedding-----------------\n"
     ]
    }
   ],
   "source": [
    "print(\"---------------Training document embedding-----------------\")"
   ]
  },
  {
   "cell_type": "code",
   "execution_count": 9,
   "metadata": {
    "scrolled": true
   },
   "outputs": [
    {
     "name": "stdout",
     "output_type": "stream",
     "text": [
      "Doc2Vec by Gensim\n",
      "Epoch: 5\n",
      "Epoch: 10\n",
      "Epoch: 15\n",
      "Epoch: 20\n",
      "Epoch: 25\n",
      "Epoch: 30\n",
      "Epoch: 35\n",
      "Epoch: 40\n",
      "Epoch: 45\n",
      "Epoch: 50\n",
      "Epoch: 55\n",
      "Epoch: 60\n",
      "Epoch: 65\n",
      "Epoch: 70\n",
      "Epoch: 75\n",
      "Epoch: 80\n",
      "Epoch: 85\n",
      "Epoch: 90\n",
      "Epoch: 95\n",
      "Epoch: 100\n",
      "Epoch: 105\n",
      "Epoch: 110\n",
      "Epoch: 115\n",
      "Epoch: 120\n",
      "Epoch: 125\n",
      "Epoch: 130\n",
      "Epoch: 135\n",
      "Epoch: 140\n",
      "Epoch: 145\n",
      "Epoch: 150\n",
      "Epoch: 155\n",
      "Epoch: 160\n",
      "Epoch: 165\n",
      "Epoch: 170\n",
      "Epoch: 175\n",
      "Epoch: 180\n",
      "Epoch: 185\n",
      "Epoch: 190\n",
      "Epoch: 195\n",
      "Epoch: 200\n",
      "Epoch: 205\n",
      "Epoch: 210\n",
      "Epoch: 215\n",
      "Epoch: 220\n",
      "Epoch: 225\n",
      "Epoch: 230\n",
      "Epoch: 235\n",
      "Epoch: 240\n",
      "Epoch: 245\n",
      "Epoch: 250\n",
      "Epoch: 255\n",
      "Epoch: 260\n",
      "Epoch: 265\n",
      "Epoch: 270\n"
     ]
    },
    {
     "data": {
      "text/plain": [
       "(61.721135239498324, 17.721291187252206, 0.28711868500940174)"
      ]
     },
     "execution_count": 9,
     "metadata": {},
     "output_type": "execute_result"
    }
   ],
   "source": [
    "if embedding_type == \"LOD\":\n",
    "    doc2vec = OnlyLeafDoc2Vec(data_name, dataset_train.number_of_classes(), size=embedding_size, epoch=270, batch_size=10000)\n",
    "elif embedding_type == \"Normal\":\n",
    "    doc2vec = NoTag_Doc2Vec(data_name, dataset_train.number_of_classes(), size=embedding_size, epoch=270, batch_size=10000)\n",
    "else:\n",
    "    doc2vec = Doc2Vec(data_name, dataset_train.number_of_classes(), size=embedding_size, epoch=270, batch_size=10000)\n",
    "doc2vec.fit(dataset_train.datas, dataset_train.labels, dataset_validate.datas, dataset_validate.labels, early_stopping=False)\n",
    "# doc2vec.load_model('export/%s/doc2vec.model' % data_name)"
   ]
  },
  {
   "cell_type": "code",
   "execution_count": 10,
   "metadata": {
    "collapsed": true
   },
   "outputs": [],
   "source": [
    "dataset_train.change_to_Doc2Vec(doc2vec)\n",
    "dataset_validate.change_to_Doc2Vec(doc2vec)\n",
    "if (test_split or predict_test or evaluate_test):\n",
    "    dataset_test.change_to_Doc2Vec(doc2vec)"
   ]
  },
  {
   "cell_type": "code",
   "execution_count": 11,
   "metadata": {},
   "outputs": [],
   "source": [
    "if hidden == 'auto' or target_hidden == 'auto':\n",
    "    a = []\n",
    "    for i in range(len(dataset_train.level)-1):\n",
    "        a.append(dataset_train.level[i+1] - dataset_train.level[i])\n",
    "    a = np.array(a)\n",
    "\n",
    "    if hidden == 'auto':\n",
    "        hidden = a*2 + 300\n",
    "        hidden[hidden > 3000] = 3000\n",
    "        hidden = hidden.tolist()\n",
    "    if target_hidden == 'auto':\n",
    "        target_hidden = a[:-1]*2 + 30\n",
    "        target_hidden[target_hidden > 100] = 100\n",
    "        target_hidden = target_hidden.tolist()\n"
   ]
  },
  {
   "cell_type": "code",
   "execution_count": 12,
   "metadata": {},
   "outputs": [
    {
     "name": "stdout",
     "output_type": "stream",
     "text": [
      "---------------Training classifiers-----------------\n"
     ]
    }
   ],
   "source": [
    "print(\"---------------Training classifiers-----------------\")"
   ]
  },
  {
   "cell_type": "code",
   "execution_count": 13,
   "metadata": {
    "collapsed": true
   },
   "outputs": [],
   "source": [
    "model = AssemblePredicted(data_name, dataset_train, dataset_validate, dataset_test, iteration=2000, stopping_time=300, batch_size=65536, hidden_size=hidden, target_hidden_size=target_hidden, use_dropout=True, start_level=0)"
   ]
  },
  {
   "cell_type": "code",
   "execution_count": 14,
   "metadata": {
    "scrolled": false
   },
   "outputs": [
    {
     "name": "stdout",
     "output_type": "stream",
     "text": [
      "Level: 1.000 Epoch: 66/2000 Batch: 1/1 Loss: 0.188 Training F1 macro: 0.979 Validate F1 macro: 0.659\n",
      "Level: 1.000 Epoch: 132/2000 Batch: 1/1 Loss: 0.179 Training F1 macro: 0.982 Validate F1 macro: 0.659\n",
      "Level: 1.000 Epoch: 198/2000 Batch: 1/1 Loss: 0.159 Training F1 macro: 0.984 Validate F1 macro: 0.658\n",
      "Level: 1.000 Epoch: 264/2000 Batch: 1/1 Loss: 0.148 Training F1 macro: 0.986 Validate F1 macro: 0.669\n",
      "Level: 1.000 Epoch: 330/2000 Batch: 1/1 Loss: 0.126 Training F1 macro: 0.987 Validate F1 macro: 0.668\n",
      "Level: 1.000 Epoch: 366/2000 Batch: 1/1 Loss: 0.133 Stopping F1 macro: 0.987 Validate F1 macro: 0.670\n",
      "\n",
      "Level: 2.000 Epoch: 66/2000 Batch: 1/1 Loss: 0.409 Training F1 macro: 0.962 Validate F1 macro: 0.483\n",
      "Level: 2.000 Epoch: 132/2000 Batch: 1/1 Loss: 0.378 Training F1 macro: 0.973 Validate F1 macro: 0.483\n",
      "Level: 2.000 Epoch: 198/2000 Batch: 1/1 Loss: 0.338 Training F1 macro: 0.979 Validate F1 macro: 0.505\n",
      "Level: 2.000 Epoch: 264/2000 Batch: 1/1 Loss: 0.294 Training F1 macro: 0.982 Validate F1 macro: 0.500\n",
      "Level: 2.000 Epoch: 330/2000 Batch: 1/1 Loss: 0.270 Training F1 macro: 0.985 Validate F1 macro: 0.499\n",
      "Level: 2.000 Epoch: 396/2000 Batch: 1/1 Loss: 0.231 Training F1 macro: 0.988 Validate F1 macro: 0.499\n",
      "Level: 2.000 Epoch: 462/2000 Batch: 1/1 Loss: 0.220 Training F1 macro: 0.991 Validate F1 macro: 0.497\n",
      "Level: 2.000 Epoch: 528/2000 Batch: 1/1 Loss: 0.207 Training F1 macro: 0.992 Validate F1 macro: 0.504\n",
      "Level: 2.000 Epoch: 594/2000 Batch: 1/1 Loss: 0.185 Training F1 macro: 0.992 Validate F1 macro: 0.505\n",
      "Level: 2.000 Epoch: 660/2000 Batch: 1/1 Loss: 0.150 Training F1 macro: 0.995 Validate F1 macro: 0.504\n",
      "Level: 2.000 Epoch: 726/2000 Batch: 1/1 Loss: 0.145 Training F1 macro: 0.996 Validate F1 macro: 0.502\n",
      "Level: 2.000 Epoch: 792/2000 Batch: 1/1 Loss: 0.136 Training F1 macro: 0.996 Validate F1 macro: 0.507\n",
      "Level: 2.000 Epoch: 858/2000 Batch: 1/1 Loss: 0.129 Training F1 macro: 0.997 Validate F1 macro: 0.507\n",
      "Level: 2.000 Epoch: 924/2000 Batch: 1/1 Loss: 0.128 Training F1 macro: 0.997 Validate F1 macro: 0.511\n",
      "Level: 2.000 Epoch: 990/2000 Batch: 1/1 Loss: 0.103 Training F1 macro: 0.997 Validate F1 macro: 0.513\n",
      "Level: 2.000 Epoch: 1056/2000 Batch: 1/1 Loss: 0.113 Training F1 macro: 0.998 Validate F1 macro: 0.513\n",
      "Level: 2.000 Epoch: 1122/2000 Batch: 1/1 Loss: 0.106 Training F1 macro: 0.998 Validate F1 macro: 0.521\n",
      "Level: 2.000 Epoch: 1188/2000 Batch: 1/1 Loss: 0.086 Training F1 macro: 0.998 Validate F1 macro: 0.513\n",
      "Level: 2.000 Epoch: 1254/2000 Batch: 1/1 Loss: 0.092 Training F1 macro: 0.999 Validate F1 macro: 0.523\n",
      "Level: 2.000 Epoch: 1320/2000 Batch: 1/1 Loss: 0.091 Training F1 macro: 0.999 Validate F1 macro: 0.512\n",
      "Level: 2.000 Epoch: 1386/2000 Batch: 1/1 Loss: 0.085 Training F1 macro: 1.000 Validate F1 macro: 0.515\n",
      "Level: 2.000 Epoch: 1452/2000 Batch: 1/1 Loss: 0.066 Training F1 macro: 1.000 Validate F1 macro: 0.514\n",
      "Level: 2.000 Epoch: 1518/2000 Batch: 1/1 Loss: 0.073 Training F1 macro: 1.000 Validate F1 macro: 0.515\n",
      "Level: 2.000 Epoch: 1584/2000 Batch: 1/1 Loss: 0.070 Training F1 macro: 1.000 Validate F1 macro: 0.528\n",
      "Level: 2.000 Epoch: 1650/2000 Batch: 1/1 Loss: 0.069 Training F1 macro: 1.000 Validate F1 macro: 0.523\n",
      "Level: 2.000 Epoch: 1716/2000 Batch: 1/1 Loss: 0.069 Training F1 macro: 1.000 Validate F1 macro: 0.523\n",
      "Level: 2.000 Epoch: 1782/2000 Batch: 1/1 Loss: 0.064 Training F1 macro: 1.000 Validate F1 macro: 0.514\n",
      "Level: 2.000 Epoch: 1848/2000 Batch: 1/1 Loss: 0.065 Training F1 macro: 1.000 Validate F1 macro: 0.521\n",
      "Level: 2.000 Epoch: 1914/2000 Batch: 1/1 Loss: 0.049 Training F1 macro: 1.000 Validate F1 macro: 0.526\n",
      "Level: 2.000 Epoch: 1947/2000 Batch: 1/1 Loss: 0.048 Stopping F1 macro: 1.000 Validate F1 macro: 0.529\n",
      "\n",
      "Level: 3.000 Epoch: 66/2000 Batch: 1/1 Loss: 0.741 Training F1 macro: 0.875 Validate F1 macro: 0.050\n",
      "Level: 3.000 Epoch: 132/2000 Batch: 1/1 Loss: 0.664 Training F1 macro: 0.895 Validate F1 macro: 0.052\n",
      "Level: 3.000 Epoch: 198/2000 Batch: 1/1 Loss: 0.645 Training F1 macro: 0.905 Validate F1 macro: 0.052\n",
      "Level: 3.000 Epoch: 264/2000 Batch: 1/1 Loss: 0.579 Training F1 macro: 0.915 Validate F1 macro: 0.052\n",
      "Level: 3.000 Epoch: 330/2000 Batch: 1/1 Loss: 0.532 Training F1 macro: 0.919 Validate F1 macro: 0.052\n",
      "Level: 3.000 Epoch: 366/2000 Batch: 1/1 Loss: 0.517 Stopping F1 macro: 0.923 Validate F1 macro: 0.054\n",
      "\n",
      "Level: 4.000 Epoch: 66/2000 Batch: 1/1 Loss: 0.448 Training F1 macro: 0.825 Validate F1 macro: 0.008\n",
      "Level: 4.000 Epoch: 132/2000 Batch: 1/1 Loss: 0.410 Training F1 macro: 0.832 Validate F1 macro: 0.008\n",
      "Level: 4.000 Epoch: 198/2000 Batch: 1/1 Loss: 0.377 Training F1 macro: 0.837 Validate F1 macro: 0.008\n",
      "Level: 4.000 Epoch: 264/2000 Batch: 1/1 Loss: 0.332 Training F1 macro: 0.841 Validate F1 macro: 0.008\n",
      "Level: 4.000 Epoch: 330/2000 Batch: 1/1 Loss: 0.331 Training F1 macro: 0.845 Validate F1 macro: 0.008\n",
      "Level: 4.000 Epoch: 366/2000 Batch: 1/1 Loss: 0.316 Stopping F1 macro: 0.847 Validate F1 macro: 0.012\n",
      "\n"
     ]
    }
   ],
   "source": [
    "model.train()"
   ]
  },
  {
   "cell_type": "code",
   "execution_count": 15,
   "metadata": {
    "collapsed": true
   },
   "outputs": [],
   "source": [
    "threshold = model.tuning_threshold()"
   ]
  },
  {
   "cell_type": "code",
   "execution_count": 16,
   "metadata": {},
   "outputs": [],
   "source": [
    "f = open('export/%s/result.txt' % data_name, 'w')"
   ]
  },
  {
   "cell_type": "code",
   "execution_count": 17,
   "metadata": {},
   "outputs": [
    {
     "name": "stdout",
     "output_type": "stream",
     "text": [
      "---------------Evaluation-----------------\n"
     ]
    }
   ],
   "source": [
    "print(\"---------------Evaluation-----------------\")"
   ]
  },
  {
   "cell_type": "code",
   "execution_count": 18,
   "metadata": {},
   "outputs": [],
   "source": [
    "list_of_mode = ['train', 'validate']\n",
    "if (test_split or predict_test or evaluate_test):\n",
    "    list_of_mode.append('test')"
   ]
  },
  {
   "cell_type": "code",
   "execution_count": 19,
   "metadata": {},
   "outputs": [
    {
     "name": "stdout",
     "output_type": "stream",
     "text": [
      "--------------------------- train -------------------------------\n",
      "F1 macro: 0.7194 F1 micro: 0.7485\n",
      "Level: 0 F1 macro: 0.9284 F1 micro: 0.9411\n",
      "Level: 1 F1 macro: 0.8799 F1 micro: 0.8777\n",
      "Level: 2 F1 macro: 0.6924 F1 micro: 0.5973\n",
      "Level: 3 F1 macro: 0.7189 F1 micro: 0.6809\n",
      "\n",
      "--------------------------- validate -------------------------------\n",
      "F1 macro: 0.0709 F1 micro: 0.4473\n",
      "Level: 0 F1 macro: 0.6235 F1 micro: 0.7582\n",
      "Level: 1 F1 macro: 0.5018 F1 micro: 0.5507\n",
      "Level: 2 F1 macro: 0.1372 F1 micro: 0.3121\n",
      "Level: 3 F1 macro: 0.0352 F1 micro: 0.2215\n",
      "\n"
     ]
    }
   ],
   "source": [
    "for mode in list_of_mode:\n",
    "    if predict_test or mode != 'test':\n",
    "        model.export_result(mode, correction=correction, mandatory_leaf=mandatory_leaf)\n",
    "    if evaluate_test or mode != 'test':\n",
    "        f1_macro, f1_micro, f1_each = model.evaluate(mode, correction=correction, mandatory_leaf=mandatory_leaf)\n",
    "        f.write(\"--------------------------- %s -------------------------------\\n\" % mode)\n",
    "        print(\"--------------------------- %s -------------------------------\" % mode)\n",
    "        f.write(\"F1 macro: %.4f F1 micro: %.4f\\n\" % (f1_macro, f1_micro))\n",
    "        print(\"F1 macro: %.4f F1 micro: %.4f\" % (f1_macro, f1_micro))\n",
    "        if classification_type == 'hierarchical':\n",
    "            for level, (macro, micro) in enumerate(f1_each):\n",
    "                f.write(\"Level: %d F1 macro: %.4f F1 micro: %.4f\\n\" % (level, macro, micro))\n",
    "                print(\"Level: %d F1 macro: %.4f F1 micro: %.4f\" % (level, macro, micro))\n",
    "            f.write('\\n')\n",
    "            print('')"
   ]
  },
  {
   "cell_type": "code",
   "execution_count": 20,
   "metadata": {},
   "outputs": [],
   "source": [
    "f.close()"
   ]
  },
  {
   "cell_type": "code",
   "execution_count": 21,
   "metadata": {},
   "outputs": [],
   "source": [
    "config['hidden'] =  hidden\n",
    "config['target_hidden'] = target_hidden\n",
    "config['threshold'] = threshold\n",
    "with open('export/%s/model_detail.json' % data_name, 'w') as f:\n",
    "    json.dump(config, f)"
   ]
  }
 ],
 "metadata": {
  "kernelspec": {
   "display_name": "Python 3",
   "language": "python",
   "name": "python3"
  },
  "language_info": {
   "codemirror_mode": {
    "name": "ipython",
    "version": 3
   },
   "file_extension": ".py",
   "mimetype": "text/x-python",
   "name": "python",
   "nbconvert_exporter": "python",
   "pygments_lexer": "ipython3",
   "version": "3.6.1"
  }
 },
 "nbformat": 4,
 "nbformat_minor": 2
}
