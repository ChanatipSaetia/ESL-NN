{
 "cells": [
  {
   "cell_type": "markdown",
   "metadata": {},
   "source": [
    "# Real Flow "
   ]
  },
  {
   "cell_type": "code",
   "execution_count": 1,
   "metadata": {
    "collapsed": true
   },
   "outputs": [],
   "source": [
    "from data import Dataset\n",
    "from embedding import Doc2Vec, NoTag_Doc2Vec, OnlyLeafDoc2Vec\n",
    "from assemble_classifier import AssemblePredicted, AssemblePredictedHidden, AssemblePredictedHiddenAdd\n",
    "import shutil\n",
    "import os\n",
    "import numpy as np\n",
    "import json"
   ]
  },
  {
   "cell_type": "code",
   "execution_count": 2,
   "metadata": {},
   "outputs": [],
   "source": [
    "evaluater_config = json.load(open('evaluater_config.json'))\n",
    "data_name = evaluater_config['train_model_folder']\n",
    "test_file_name = evaluater_config['file_name']"
   ]
  },
  {
   "cell_type": "code",
   "execution_count": 3,
   "metadata": {
    "collapsed": true
   },
   "outputs": [],
   "source": [
    "config = json.load(open('export/%s/model_detail.json' % data_name))\n",
    "classification_type = config['classification_type']\n",
    "correction = config['correction']\n",
    "mandatory_leaf = config['mandatory_leaf']\n",
    "hidden = config['hidden']\n",
    "target_hidden = config['target_hidden']\n",
    "embedding_size = config['embedding_size']\n",
    "embedding_type = \"OPD\"\n",
    "hidden = config['hidden']\n",
    "target_hidden = config['target_hidden']\n",
    "threshold = config['threshold']"
   ]
  },
  {
   "cell_type": "code",
   "execution_count": 4,
   "metadata": {},
   "outputs": [
    {
     "name": "stdout",
     "output_type": "stream",
     "text": [
      "---------------Preprocessing-----------------\n"
     ]
    }
   ],
   "source": [
    "print(\"---------------Preprocessing-----------------\")"
   ]
  },
  {
   "cell_type": "code",
   "execution_count": 5,
   "metadata": {},
   "outputs": [],
   "source": [
    "if classification_type == \"multi-class\":\n",
    "    mandatory_leaf = True\n",
    "elif classification_type == \"multi-label\":\n",
    "    mandatory_leaf = False"
   ]
  },
  {
   "cell_type": "code",
   "execution_count": 6,
   "metadata": {
    "collapsed": true
   },
   "outputs": [],
   "source": [
    "if os.path.isdir('data/%s/output' % data_name):\n",
    "    shutil.rmtree('data/%s/output' % data_name)\n",
    "if os.path.isdir('data/%s/store' % data_name):\n",
    "    shutil.rmtree('data/%s/store' % data_name)"
   ]
  },
  {
   "cell_type": "code",
   "execution_count": 7,
   "metadata": {
    "collapsed": true
   },
   "outputs": [],
   "source": [
    "dataset_test = Dataset(data_name, \"test\", test_split=False, classification_type=classification_type, data_file_name=test_file_name)"
   ]
  },
  {
   "cell_type": "code",
   "execution_count": 8,
   "metadata": {},
   "outputs": [
    {
     "name": "stdout",
     "output_type": "stream",
     "text": [
      "---------------Document embedding-----------------\n"
     ]
    }
   ],
   "source": [
    "print(\"---------------Document embedding-----------------\")"
   ]
  },
  {
   "cell_type": "code",
   "execution_count": 9,
   "metadata": {
    "scrolled": true
   },
   "outputs": [
    {
     "name": "stdout",
     "output_type": "stream",
     "text": [
      "Doc2Vec by Gensim\n"
     ]
    }
   ],
   "source": [
    "if embedding_type == \"LOD\":\n",
    "    doc2vec = OnlyLeafDoc2Vec(data_name, dataset_test.number_of_classes(), size=embedding_size, epoch=270, batch_size=10000)\n",
    "elif embedding_type == \"Normal\":\n",
    "    doc2vec = NoTag_Doc2Vec(data_name, dataset_test.number_of_classes(), size=embedding_size, epoch=270, batch_size=10000)\n",
    "else:\n",
    "    doc2vec = Doc2Vec(data_name, dataset_test.number_of_classes(), size=embedding_size, epoch=270, batch_size=10000)\n",
    "doc2vec.load_model('export/%s/doc2vec.model' % data_name)"
   ]
  },
  {
   "cell_type": "code",
   "execution_count": 10,
   "metadata": {
    "collapsed": true
   },
   "outputs": [],
   "source": [
    "dataset_test.change_to_Doc2Vec(doc2vec)"
   ]
  },
  {
   "cell_type": "code",
   "execution_count": 11,
   "metadata": {},
   "outputs": [
    {
     "name": "stdout",
     "output_type": "stream",
     "text": [
      "---------------Training classifiers-----------------\n"
     ]
    }
   ],
   "source": [
    "print(\"---------------Training classifiers-----------------\")"
   ]
  },
  {
   "cell_type": "code",
   "execution_count": 12,
   "metadata": {
    "collapsed": true
   },
   "outputs": [],
   "source": [
    "model = AssemblePredicted(data_name, dataset_test, \"temp\", dataset_test, iteration=2000, stopping_time=300, batch_size=65536, hidden_size=hidden, target_hidden_size=target_hidden, use_dropout=True, start_level=99999)"
   ]
  },
  {
   "cell_type": "code",
   "execution_count": 13,
   "metadata": {
    "collapsed": true
   },
   "outputs": [],
   "source": [
    "model.train()\n",
    "model.apply_threshold(threshold)"
   ]
  },
  {
   "cell_type": "code",
   "execution_count": 14,
   "metadata": {},
   "outputs": [],
   "source": [
    "f = open('export/%s/result_%s' % (data_name, test_file_name), 'w')"
   ]
  },
  {
   "cell_type": "code",
   "execution_count": 15,
   "metadata": {},
   "outputs": [
    {
     "name": "stdout",
     "output_type": "stream",
     "text": [
      "---------------Evaluation-----------------\n"
     ]
    }
   ],
   "source": [
    "print(\"---------------Evaluation-----------------\")"
   ]
  },
  {
   "cell_type": "code",
   "execution_count": 16,
   "metadata": {},
   "outputs": [
    {
     "name": "stdout",
     "output_type": "stream",
     "text": [
      "--------------------------- test -------------------------------\n",
      "F1 macro: 0.0822 F1 micro: 0.4359\n",
      "Level: 0 F1 macro: 0.5931 F1 micro: 0.7411\n",
      "Level: 1 F1 macro: 0.5001 F1 micro: 0.5609\n",
      "Level: 2 F1 macro: 0.1381 F1 micro: 0.3067\n",
      "Level: 3 F1 macro: 0.0498 F1 micro: 0.1756\n",
      "\n"
     ]
    }
   ],
   "source": [
    "mode = 'test'\n",
    "model.export_result(mode, correction=correction, mandatory_leaf=mandatory_leaf, file_name=test_file_name)\n",
    "f1_macro, f1_micro, f1_each = model.evaluate(mode, correction=correction, mandatory_leaf=mandatory_leaf)\n",
    "f.write(\"--------------------------- %s -------------------------------\\n\" % mode)\n",
    "print(\"--------------------------- %s -------------------------------\" % mode)\n",
    "f.write(\"F1 macro: %.4f F1 micro: %.4f\\n\" % (f1_macro, f1_micro))\n",
    "print(\"F1 macro: %.4f F1 micro: %.4f\" % (f1_macro, f1_micro))\n",
    "if classification_type == 'hierarchical':\n",
    "    for level, (macro, micro) in enumerate(f1_each):\n",
    "        f.write(\"Level: %d F1 macro: %.4f F1 micro: %.4f\\n\" % (level, macro, micro))\n",
    "        print(\"Level: %d F1 macro: %.4f F1 micro: %.4f\" % (level, macro, micro))\n",
    "    f.write('\\n')\n",
    "    print('')"
   ]
  },
  {
   "cell_type": "code",
   "execution_count": 17,
   "metadata": {},
   "outputs": [],
   "source": [
    "f.close()"
   ]
  }
 ],
 "metadata": {
  "kernelspec": {
   "display_name": "Python 3",
   "language": "python",
   "name": "python3"
  },
  "language_info": {
   "codemirror_mode": {
    "name": "ipython",
    "version": 3
   },
   "file_extension": ".py",
   "mimetype": "text/x-python",
   "name": "python",
   "nbconvert_exporter": "python",
   "pygments_lexer": "ipython3",
   "version": "3.6.4"
  }
 },
 "nbformat": 4,
 "nbformat_minor": 2
}
