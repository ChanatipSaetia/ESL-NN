{
 "cells": [
  {
   "cell_type": "markdown",
   "metadata": {},
   "source": [
    "# Real Flow "
   ]
  },
  {
   "cell_type": "code",
   "execution_count": 1,
   "metadata": {
    "collapsed": true
   },
   "outputs": [],
   "source": [
    "from data import Dataset\n",
    "from embedding import Doc2Vec, NoTag_Doc2Vec, OnlyLeafDoc2Vec\n",
    "from assemble_classifier import AssemblePredicted, AssemblePredictedHidden, AssemblePredictedHiddenAdd\n",
    "import shutil\n",
    "import os\n",
    "import numpy as np\n",
    "import json"
   ]
  },
  {
   "cell_type": "code",
   "execution_count": 2,
   "metadata": {
    "collapsed": true
   },
   "outputs": [],
   "source": [
    "config = json.load(open('config.json'))\n",
    "data_name = config['data_name']\n",
    "train_file_name = config['train_file_name']\n",
    "test_file_name = config['test_file_name']\n",
    "classification_type = config['classification_type']\n",
    "test_split = config['test_split']\n",
    "predict_test = config['predict_test']\n",
    "evaluate_test = config['evaluate_test']\n",
    "correction = config['correction']\n",
    "mandatory_leaf = config['mandatory_leaf']\n",
    "hidden = config['hidden']\n",
    "target_hidden = config['target_hidden']\n",
    "embedding_size = config['embedding_size']\n",
    "embedding_type = 'OPD'"
   ]
  },
  {
   "cell_type": "code",
   "execution_count": 3,
   "metadata": {},
   "outputs": [
    {
     "name": "stdout",
     "output_type": "stream",
     "text": [
      "---------------Preprocessing-----------------\n"
     ]
    }
   ],
   "source": [
    "print(\"---------------Preprocessing-----------------\")"
   ]
  },
  {
   "cell_type": "code",
   "execution_count": 4,
   "metadata": {},
   "outputs": [],
   "source": [
    "if classification_type == \"multi-class\":\n",
    "    mandatory_leaf = True\n",
    "elif classification_type == \"multi-label\":\n",
    "    mandatory_leaf = False"
   ]
  },
  {
   "cell_type": "code",
   "execution_count": 5,
   "metadata": {},
   "outputs": [],
   "source": [
    "if not os.path.isdir('export/%s' % data_name):\n",
    "    os.makedirs('export/%s' % data_name)"
   ]
  },
  {
   "cell_type": "code",
   "execution_count": 6,
   "metadata": {
    "collapsed": true
   },
   "outputs": [],
   "source": [
    "if os.path.isdir('data/%s/output' % data_name):\n",
    "    shutil.rmtree('data/%s/output' % data_name)\n",
    "if os.path.isdir('data/%s/store' % data_name):\n",
    "    shutil.rmtree('data/%s/store' % data_name)"
   ]
  },
  {
   "cell_type": "code",
   "execution_count": 7,
   "metadata": {
    "collapsed": true
   },
   "outputs": [],
   "source": [
    "dataset_train = Dataset(data_name, \"train\", test_split=test_split, classification_type=classification_type, data_file_name=train_file_name)\n",
    "dataset_validate = Dataset(data_name, \"validate\", test_split=test_split, classification_type=classification_type, data_file_name=train_file_name)\n",
    "if (test_split or predict_test or evaluate_test):\n",
    "    dataset_test = Dataset(data_name, \"test\", test_split=test_split, classification_type=classification_type, data_file_name=test_file_name)\n",
    "else:\n",
    "    dataset_test = \"temp\""
   ]
  },
  {
   "cell_type": "code",
   "execution_count": 8,
   "metadata": {},
   "outputs": [
    {
     "name": "stdout",
     "output_type": "stream",
     "text": [
      "---------------Training document embedding-----------------\n"
     ]
    }
   ],
   "source": [
    "print(\"---------------Training document embedding-----------------\")"
   ]
  },
  {
   "cell_type": "code",
   "execution_count": 9,
   "metadata": {
    "scrolled": true
   },
   "outputs": [
    {
     "name": "stdout",
     "output_type": "stream",
     "text": [
      "Doc2Vec by Gensim\n",
      "Epoch: 5\n",
      "Epoch: 10\n",
      "Epoch: 15\n",
      "Epoch: 20\n",
      "Epoch: 25\n",
      "Epoch: 30\n",
      "Epoch: 35\n",
      "Epoch: 40\n",
      "Epoch: 45\n",
      "Epoch: 50\n",
      "Epoch: 55\n",
      "Epoch: 60\n",
      "Epoch: 65\n",
      "Epoch: 70\n",
      "Epoch: 75\n",
      "Epoch: 80\n",
      "Epoch: 85\n",
      "Epoch: 90\n",
      "Epoch: 95\n",
      "Epoch: 100\n",
      "Epoch: 105\n",
      "Epoch: 110\n",
      "Epoch: 115\n",
      "Epoch: 120\n",
      "Epoch: 125\n",
      "Epoch: 130\n",
      "Epoch: 135\n",
      "Epoch: 140\n",
      "Epoch: 145\n",
      "Epoch: 150\n",
      "Epoch: 155\n",
      "Epoch: 160\n",
      "Epoch: 165\n",
      "Epoch: 170\n",
      "Epoch: 175\n",
      "Epoch: 180\n",
      "Epoch: 185\n",
      "Epoch: 190\n",
      "Epoch: 195\n",
      "Epoch: 200\n",
      "Epoch: 205\n",
      "Epoch: 210\n",
      "Epoch: 215\n",
      "Epoch: 220\n",
      "Epoch: 225\n",
      "Epoch: 230\n",
      "Epoch: 235\n",
      "Epoch: 240\n",
      "Epoch: 245\n",
      "Epoch: 250\n",
      "Epoch: 255\n",
      "Epoch: 260\n",
      "Epoch: 265\n",
      "Epoch: 270\n"
     ]
    },
    {
     "data": {
      "text/plain": [
       "(61.71719463794517, 17.734233618410826, 0.2873467227803547)"
      ]
     },
     "execution_count": 9,
     "metadata": {},
     "output_type": "execute_result"
    }
   ],
   "source": [
    "if embedding_type == \"LOD\":\n",
    "    doc2vec = OnlyLeafDoc2Vec(data_name, dataset_train.number_of_classes(), size=embedding_size, epoch=270, batch_size=10000)\n",
    "elif embedding_type == \"Normal\":\n",
    "    doc2vec = NoTag_Doc2Vec(data_name, dataset_train.number_of_classes(), size=embedding_size, epoch=270, batch_size=10000)\n",
    "else:\n",
    "    doc2vec = Doc2Vec(data_name, dataset_train.number_of_classes(), size=embedding_size, epoch=270, batch_size=10000)\n",
    "doc2vec.fit(dataset_train.datas, dataset_train.labels, dataset_validate.datas, dataset_validate.labels, early_stopping=False)\n",
    "# doc2vec.load_model('export/%s/doc2vec.model' % data_name)"
   ]
  },
  {
   "cell_type": "code",
   "execution_count": 10,
   "metadata": {
    "collapsed": true
   },
   "outputs": [],
   "source": [
    "dataset_train.change_to_Doc2Vec(doc2vec)\n",
    "dataset_validate.change_to_Doc2Vec(doc2vec)\n",
    "if (test_split or predict_test or evaluate_test):\n",
    "    dataset_test.change_to_Doc2Vec(doc2vec)"
   ]
  },
  {
   "cell_type": "code",
   "execution_count": 11,
   "metadata": {},
   "outputs": [],
   "source": [
    "if hidden == 'auto' or target_hidden == 'auto':\n",
    "    a = []\n",
    "    for i in range(len(dataset_train.level)-1):\n",
    "        a.append(dataset_train.level[i+1] - dataset_train.level[i])\n",
    "    a = np.array(a)\n",
    "\n",
    "    if hidden == 'auto':\n",
    "        hidden = a*2 + 300\n",
    "        hidden[hidden > 3000] = 3000\n",
    "        hidden = hidden.tolist()\n",
    "    if target_hidden == 'auto':\n",
    "        target_hidden = a[:-1]*2 + 30\n",
    "        target_hidden[target_hidden > 100] = 100\n",
    "        target_hidden = target_hidden.tolist()\n"
   ]
  },
  {
   "cell_type": "code",
   "execution_count": 12,
   "metadata": {},
   "outputs": [
    {
     "name": "stdout",
     "output_type": "stream",
     "text": [
      "---------------Training classifiers-----------------\n"
     ]
    }
   ],
   "source": [
    "print(\"---------------Training classifiers-----------------\")"
   ]
  },
  {
   "cell_type": "code",
   "execution_count": null,
   "metadata": {
    "collapsed": true
   },
   "outputs": [],
   "source": [
    "model = AssemblePredicted(data_name, dataset_train, dataset_validate, dataset_test, iteration=2000, stopping_time=300, batch_size=65536, hidden_size=hidden, target_hidden_size=target_hidden, use_dropout=True, start_level=0)"
   ]
  },
  {
   "cell_type": "code",
   "execution_count": null,
   "metadata": {
    "scrolled": false
   },
   "outputs": [
    {
     "name": "stdout",
     "output_type": "stream",
     "text": [
      "Level: 1.000 Epoch: 66/2000 Batch: 1/1 Loss: 0.191 Training F1 macro: 0.979 Validate F1 macro: 0.643\n",
      "Level: 1.000 Epoch: 132/2000 Batch: 1/1 Loss: 0.185 Training F1 macro: 0.981 Validate F1 macro: 0.642\n",
      "Level: 1.000 Epoch: 198/2000 Batch: 1/1 Loss: 0.164 Training F1 macro: 0.985 Validate F1 macro: 0.642\n",
      "Level: 1.000 Epoch: 264/2000 Batch: 1/1 Loss: 0.154 Training F1 macro: 0.987 Validate F1 macro: 0.642\n",
      "Level: 1.000 Epoch: 330/2000 Batch: 1/1 Loss: 0.138 Training F1 macro: 0.989 Validate F1 macro: 0.642\n",
      "Level: 1.000 Epoch: 366/2000 Batch: 1/1 Loss: 0.128 Stopping F1 macro: 0.991 Validate F1 macro: 0.656\n",
      "\n",
      "Level: 2.000 Epoch: 66/2000 Batch: 1/1 Loss: 0.374 Training F1 macro: 0.971 Validate F1 macro: 0.491\n",
      "Level: 2.000 Epoch: 132/2000 Batch: 1/1 Loss: 0.331 Training F1 macro: 0.975 Validate F1 macro: 0.492\n",
      "Level: 2.000 Epoch: 198/2000 Batch: 1/1 Loss: 0.327 Training F1 macro: 0.981 Validate F1 macro: 0.500\n",
      "Level: 2.000 Epoch: 264/2000 Batch: 1/1 Loss: 0.308 Training F1 macro: 0.982 Validate F1 macro: 0.502\n",
      "Level: 2.000 Epoch: 330/2000 Batch: 1/1 Loss: 0.273 Training F1 macro: 0.984 Validate F1 macro: 0.498\n",
      "Level: 2.000 Epoch: 366/2000 Batch: 1/1 Loss: 0.269 Stopping F1 macro: 0.985 Validate F1 macro: 0.506\n",
      "\n",
      "Level: 3.000 Epoch: 66/2000 Batch: 2/2 Loss: 0.938 Training F1 macro: 0.835 Validate F1 macro: 0.048\n",
      "Level: 3.000 Epoch: 132/2000 Batch: 1/1 Loss: 0.818 Training F1 macro: 0.852 Validate F1 macro: 0.051\n",
      "Level: 3.000 Epoch: 198/2000 Batch: 1/1 Loss: 0.777 Training F1 macro: 0.872 Validate F1 macro: 0.049\n",
      "Level: 3.000 Epoch: 264/2000 Batch: 1/1 Loss: 0.707 Training F1 macro: 0.884 Validate F1 macro: 0.055\n",
      "Level: 3.000 Epoch: 330/2000 Batch: 1/1 Loss: 0.641 Training F1 macro: 0.896 Validate F1 macro: 0.053\n",
      "Level: 3.000 Epoch: 396/2000 Batch: 1/1 Loss: 0.581 Training F1 macro: 0.905 Validate F1 macro: 0.056\n",
      "Level: 3.000 Epoch: 462/2000 Batch: 1/1 Loss: 0.539 Training F1 macro: 0.916 Validate F1 macro: 0.052\n",
      "Level: 3.000 Epoch: 520/2000 Batch: 1/1 Loss: 0.503 Stopping F1 macro: 0.923 Validate F1 macro: 0.058\n",
      "\n",
      "Level: 4.000 Epoch: 15/2000 Batch: 10/39 Loss: 5.675 "
     ]
    }
   ],
   "source": [
    "model.train()"
   ]
  },
  {
   "cell_type": "code",
   "execution_count": null,
   "metadata": {
    "collapsed": true
   },
   "outputs": [],
   "source": [
    "threshold = model.tuning_threshold()"
   ]
  },
  {
   "cell_type": "code",
   "execution_count": null,
   "metadata": {},
   "outputs": [],
   "source": [
    "f = open('export/%s/result.txt' % data_name, 'w')"
   ]
  },
  {
   "cell_type": "code",
   "execution_count": null,
   "metadata": {},
   "outputs": [],
   "source": [
    "print(\"---------------Evaluation-----------------\")"
   ]
  },
  {
   "cell_type": "code",
   "execution_count": null,
   "metadata": {},
   "outputs": [],
   "source": [
    "list_of_mode = ['train', 'validate']\n",
    "if (test_split or predict_test or evaluate_test):\n",
    "    list_of_mode.append('test')"
   ]
  },
  {
   "cell_type": "code",
   "execution_count": null,
   "metadata": {},
   "outputs": [],
   "source": [
    "for mode in list_of_mode:\n",
    "    if predict_test or mode != 'test':\n",
    "        model.export_result(mode, correction=correction, mandatory_leaf=mandatory_leaf)\n",
    "    if evaluate_test or mode != 'test':\n",
    "        f1_macro, f1_micro, f1_each = model.evaluate(mode, correction=correction, mandatory_leaf=mandatory_leaf)\n",
    "        f.write(\"--------------------------- %s -------------------------------\\n\" % mode)\n",
    "        print(\"--------------------------- %s -------------------------------\" % mode)\n",
    "        f.write(\"F1 macro: %.4f F1 micro: %.4f\\n\" % (f1_macro, f1_micro))\n",
    "        print(\"F1 macro: %.4f F1 micro: %.4f\" % (f1_macro, f1_micro))\n",
    "        if classification_type == 'hierarchical':\n",
    "            for level, (macro, micro) in enumerate(f1_each):\n",
    "                f.write(\"Level: %d F1 macro: %.4f F1 micro: %.4f\\n\" % (level, macro, micro))\n",
    "                print(\"Level: %d F1 macro: %.4f F1 micro: %.4f\" % (level, macro, micro))\n",
    "            f.write('\\n')\n",
    "            print('')"
   ]
  },
  {
   "cell_type": "code",
   "execution_count": null,
   "metadata": {},
   "outputs": [],
   "source": [
    "f.close()"
   ]
  },
  {
   "cell_type": "code",
   "execution_count": null,
   "metadata": {},
   "outputs": [],
   "source": [
    "config['hidden'] =  hidden\n",
    "config['target_hidden'] = target_hidden\n",
    "config['threshold'] = threshold\n",
    "with open('export/%s/model_detail.json' % data_name, 'w') as f:\n",
    "    json.dump(config, f)"
   ]
  }
 ],
 "metadata": {
  "kernelspec": {
   "display_name": "Python 3",
   "language": "python",
   "name": "python3"
  },
  "language_info": {
   "codemirror_mode": {
    "name": "ipython",
    "version": 3
   },
   "file_extension": ".py",
   "mimetype": "text/x-python",
   "name": "python",
   "nbconvert_exporter": "python",
   "pygments_lexer": "ipython3",
   "version": "3.6.4"
  }
 },
 "nbformat": 4,
 "nbformat_minor": 2
}
