{
 "cells": [
  {
   "cell_type": "markdown",
   "execution_count": null,
   "metadata": {},
   "outputs": [],
   "source": [
    "# Real Flow "
   ]
  },
  {
   "cell_type": "code",
   "execution_count": null,
   "metadata": {},
   "outputs": [],
   "source": [
    "from data import Dataset\n",
    "from embedding import Doc2Vec, NoTag_Doc2Vec, OnlyLeafDoc2Vec\n",
    "from assemble_classifier import ESLNN\n",
    "import shutil\n",
    "import os\n",
    "import numpy as np\n",
    "import json"
   ]
  },
  {
   "cell_type": "code",
   "execution_count": null,
   "metadata": {},
   "outputs": [],
   "source": [
    "config = json.load(open('config.json'))\n",
    "data_name = config['data_name']\n",
    "train_file_name = config['train_file_name']\n",
    "test_file_name = config['test_file_name']\n",
    "classification_type = config['classification_type']\n",
    "test_split = config['test_split']\n",
    "predict_test = config['predict_test']\n",
    "evaluate_test = config['evaluate_test']\n",
    "correction = config['correction']\n",
    "mandatory_leaf = config['mandatory_leaf']\n",
    "hidden = config['hidden']\n",
    "target_hidden = config['target_hidden']\n",
    "embedding_size = config['embedding_size']\n",
    "embedding_type = 'OPD'"
   ]
  },
  {
   "cell_type": "code",
   "execution_count": null,
   "metadata": {},
   "outputs": [],
   "source": [
    "print(\"---------------Preprocessing-----------------\")"
   ]
  },
  {
   "cell_type": "code",
   "execution_count": null,
   "metadata": {},
   "outputs": [],
   "source": [
    "if classification_type == \"multi-class\":\n",
    "    mandatory_leaf = True\n",
    "elif classification_type == \"multi-label\":\n",
    "    mandatory_leaf = False"
   ]
  },
  {
   "cell_type": "code",
   "execution_count": null,
   "metadata": {},
   "outputs": [],
   "source": [
    "if not os.path.isdir('export/%s' % data_name):\n",
    "    os.makedirs('export/%s' % data_name)"
   ]
  },
  {
   "cell_type": "code",
   "execution_count": null,
   "metadata": {},
   "outputs": [],
   "source": [
    "if os.path.isdir('data/%s/output' % data_name):\n",
    "    shutil.rmtree('data/%s/output' % data_name)\n",
    "if os.path.isdir('data/%s/store' % data_name):\n",
    "    shutil.rmtree('data/%s/store' % data_name)"
   ]
  },
  {
   "cell_type": "code",
   "execution_count": null,
   "metadata": {},
   "outputs": [],
   "source": [
    "dataset_train = Dataset(data_name, \"train\", test_split=test_split, classification_type=classification_type, data_file_name=train_file_name)\n",
    "dataset_validate = Dataset(data_name, \"validate\", test_split=test_split, classification_type=classification_type, data_file_name=train_file_name)\n",
    "if (test_split or predict_test or evaluate_test):\n",
    "    dataset_test = Dataset(data_name, \"test\", test_split=test_split, classification_type=classification_type, data_file_name=test_file_name)\n",
    "else:\n",
    "    dataset_test = \"temp\""
   ]
  },
  {
   "cell_type": "code",
   "execution_count": null,
   "metadata": {},
   "outputs": [],
   "source": [
    "print(\"---------------Training document embedding-----------------\")"
   ]
  },
  {
   "cell_type": "code",
   "execution_count": null,
   "metadata": {},
   "outputs": [],
   "source": [
    "if embedding_type == \"LOD\":\n",
    "    doc2vec = OnlyLeafDoc2Vec(data_name, dataset_train.number_of_classes(), size=embedding_size, epoch=270, batch_size=10000)\n",
    "elif embedding_type == \"Normal\":\n",
    "    doc2vec = NoTag_Doc2Vec(data_name, dataset_train.number_of_classes(), size=embedding_size, epoch=270, batch_size=10000)\n",
    "else:\n",
    "    doc2vec = Doc2Vec(data_name, dataset_train.number_of_classes(), size=embedding_size, epoch=270, batch_size=10000)\n",
    "doc2vec.fit(dataset_train.datas, dataset_train.labels, dataset_validate.datas, dataset_validate.labels, early_stopping=False)\n",
    "# doc2vec.load_model('export/%s/doc2vec.model' % data_name)"
   ]
  },
  {
   "cell_type": "code",
   "execution_count": null,
   "metadata": {},
   "outputs": [],
   "source": [
    "dataset_train.change_to_Doc2Vec(doc2vec)\n",
    "dataset_validate.change_to_Doc2Vec(doc2vec)\n",
    "if (test_split or predict_test or evaluate_test):\n",
    "    dataset_test.change_to_Doc2Vec(doc2vec)"
   ]
  },
  {
   "cell_type": "code",
   "execution_count": null,
   "metadata": {},
   "outputs": [],
   "source": [
    "if hidden == 'auto' or target_hidden == 'auto':\n",
    "    a = []\n",
    "    for i in range(len(dataset_train.level)-1):\n",
    "        a.append(dataset_train.level[i+1] - dataset_train.level[i])\n",
    "    a = np.array(a)\n",
    "\n",
    "    if hidden == 'auto':\n",
    "        hidden = a*2 + 300\n",
    "        hidden[hidden > 3000] = 3000\n",
    "        hidden = hidden.tolist()\n",
    "    if target_hidden == 'auto':\n",
    "        target_hidden = a[:-1]*2 + 30\n",
    "        target_hidden[target_hidden > 100] = 100\n",
    "        target_hidden = target_hidden.tolist()\n",
    ""
   ]
  },
  {
   "cell_type": "code",
   "execution_count": null,
   "metadata": {},
   "outputs": [],
   "source": [
    "print(\"---------------Training classifiers-----------------\")"
   ]
  },
  {
   "cell_type": "code",
   "execution_count": null,
   "metadata": {},
   "outputs": [],
   "source": [
    "model = ESLNN(data_name, dataset_train, dataset_validate, dataset_test, iteration=2000, stopping_time=300, batch_size=65536, hidden_size=hidden, target_hidden_size=target_hidden, use_dropout=True, start_level=0)"
   ]
  },
  {
   "cell_type": "code",
   "execution_count": null,
   "metadata": {},
   "outputs": [],
   "source": [
    "model.train()"
   ]
  },
  {
   "cell_type": "code",
   "execution_count": null,
   "metadata": {},
   "outputs": [],
   "source": [
    "threshold = model.tuning_threshold()"
   ]
  },
  {
   "cell_type": "code",
   "execution_count": null,
   "metadata": {},
   "outputs": [],
   "source": [
    "f = open('export/%s/result.txt' % data_name, 'w')"
   ]
  },
  {
   "cell_type": "code",
   "execution_count": null,
   "metadata": {},
   "outputs": [],
   "source": [
    "print(\"---------------Evaluation-----------------\")"
   ]
  },
  {
   "cell_type": "code",
   "execution_count": null,
   "metadata": {},
   "outputs": [],
   "source": [
    "list_of_mode = ['train', 'validate']\n",
    "if (test_split or predict_test or evaluate_test):\n",
    "    list_of_mode.append('test')"
   ]
  },
  {
   "cell_type": "code",
   "execution_count": null,
   "metadata": {},
   "outputs": [],
   "source": [
    "for mode in list_of_mode:\n",
    "    if predict_test or mode != 'test':\n",
    "        model.export_result(mode, correction=correction, mandatory_leaf=mandatory_leaf)\n",
    "    if evaluate_test or mode != 'test':\n",
    "        f1_macro, f1_micro, f1_each = model.evaluate(mode, correction=correction, mandatory_leaf=mandatory_leaf)\n",
    "        f.write(\"--------------------------- %s -------------------------------\\n\" % mode)\n",
    "        print(\"--------------------------- %s -------------------------------\" % mode)\n",
    "        f.write(\"F1 macro: %.4f F1 micro: %.4f\\n\" % (f1_macro, f1_micro))\n",
    "        print(\"F1 macro: %.4f F1 micro: %.4f\" % (f1_macro, f1_micro))\n",
    "        if classification_type == 'hierarchical':\n",
    "            for level, (macro, micro) in enumerate(f1_each):\n",
    "                f.write(\"Level: %d F1 macro: %.4f F1 micro: %.4f\\n\" % (level, macro, micro))\n",
    "                print(\"Level: %d F1 macro: %.4f F1 micro: %.4f\" % (level, macro, micro))\n",
    "            f.write('\\n')\n",
    "            print('')"
   ]
  },
  {
   "cell_type": "code",
   "execution_count": null,
   "metadata": {},
   "outputs": [],
   "source": [
    "f.close()"
   ]
  },
  {
   "cell_type": "code",
   "execution_count": null,
   "metadata": {},
   "outputs": [],
   "source": []
  },
  {
   "cell_type": "code",
   "execution_count": null,
   "metadata": {},
   "outputs": [],
   "source": [
    "config['hidden'] =  hidden\n",
    "config['target_hidden'] = target_hidden\n",
    "config['threshold'] = threshold\n",
    "with open('export/%s/model_detail.json' % data_name, 'w') as f:\n",
    "    json.dump(config, f)"
   ]
  }
 ],
 "metadata": {
  "kernelspec": {
   "display_name": "Python 3",
   "language": "python",
   "name": "python3"
  },
  "language_info": {
   "codemirror_mode": {
    "name": "ipython",
    "version": 3
   },
   "file_extension": ".py",
   "mimetype": "text/x-python",
   "name": "python",
   "nbconvert_exporter": "python",
   "pygments_lexer": "ipython3",
   "version": "3.6.10-final"
  }
 },
 "nbformat": 4,
 "nbformat_minor": 2
}