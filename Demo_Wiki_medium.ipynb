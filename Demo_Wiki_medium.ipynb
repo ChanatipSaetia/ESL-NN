{
 "cells": [
  {
   "cell_type": "code",
   "execution_count": 1,
   "metadata": {},
   "outputs": [
    {
     "name": "stderr",
     "output_type": "stream",
     "text": [
      "Using TensorFlow backend.\n"
     ]
    }
   ],
   "source": [
    "from data import Dataset\n",
    "from embedding import Doc2Vec\n",
    "from assemble_classifier import AssembleNoLabel, AssemblePredicted\n",
    "%load_ext autoreload\n",
    "%autoreload 2"
   ]
  },
  {
   "cell_type": "code",
   "execution_count": 2,
   "metadata": {
    "collapsed": true
   },
   "outputs": [],
   "source": [
    "data_name = \"wiki_mediam\""
   ]
  },
  {
   "cell_type": "code",
   "execution_count": 3,
   "metadata": {
    "collapsed": true
   },
   "outputs": [],
   "source": [
    "dataset_train = Dataset(data_name, 1, \"train\")\n",
    "dataset_validate = Dataset(data_name, 1, \"validate\")\n",
    "dataset_test = Dataset(data_name, 1, \"test\")"
   ]
  },
  {
   "cell_type": "code",
   "execution_count": 4,
   "metadata": {
    "scrolled": true
   },
   "outputs": [
    {
     "name": "stdout",
     "output_type": "stream",
     "text": [
      "Doc2Vec by Gensim\n"
     ]
    }
   ],
   "source": [
    "doc2vec = Doc2Vec(dataset_train.number_of_classes(), size=100, epoch=50)\n",
    "# doc2vec.fit(dataset_train.datas, dataset_train.labels, dataset_validate.datas, dataset_validate.labels)\n",
    "doc2vec.load_model(\"best_now/doc2vec.model\")"
   ]
  },
  {
   "cell_type": "code",
   "execution_count": 5,
   "metadata": {
    "collapsed": true
   },
   "outputs": [],
   "source": [
    "dataset_train.change_to_Doc2Vec(doc2vec)\n",
    "dataset_validate.change_to_Doc2Vec(doc2vec)\n",
    "dataset_test.change_to_Doc2Vec(doc2vec)"
   ]
  },
  {
   "cell_type": "code",
   "execution_count": 6,
   "metadata": {
    "collapsed": true
   },
   "outputs": [],
   "source": [
    "# model = AssemblePredicted(data_name, dataset_train, dataset_validate, dataset_test, iteration=2000, batch_size=5000, hidden_size=[300,1500,1500,1500,1500,1500,1500,1500,1500,1500,1500,1500], target_hidden_size=[60,60,60,60,60,60,60,60,60,60,60], use_dropout=False)\n",
    "model = AssembleNoLabel(data_name, dataset_train, dataset_validate, dataset_test, iteration=2000, batch_size=5000, hidden_size=[300,1500,1500,1500,1500,1500,1500,1500,1500,1500,1500,1500], use_dropout=False, start_level=12, stopping_time=200)"
   ]
  },
  {
   "cell_type": "code",
   "execution_count": 7,
   "metadata": {
    "collapsed": true,
    "scrolled": false
   },
   "outputs": [],
   "source": [
    "model.train()"
   ]
  },
  {
   "cell_type": "code",
   "execution_count": 8,
   "metadata": {
    "collapsed": true
   },
   "outputs": [],
   "source": [
    "model.tuning_threshold()"
   ]
  },
  {
   "cell_type": "code",
   "execution_count": 9,
   "metadata": {},
   "outputs": [
    {
     "name": "stdout",
     "output_type": "stream",
     "text": [
      "F1 macro: 0.2102 F1 micro: 0.5960\n",
      "Level: 0 F1 macro: 1.0000 F1 micro: 1.0000\n",
      "Level: 1 F1 macro: 0.5696 F1 micro: 0.9540\n",
      "Level: 2 F1 macro: 0.4981 F1 micro: 0.6372\n",
      "Level: 3 F1 macro: 0.4992 F1 micro: 0.5645\n",
      "Level: 4 F1 macro: 0.3753 F1 micro: 0.5413\n",
      "Level: 5 F1 macro: 0.2354 F1 micro: 0.5559\n",
      "Level: 6 F1 macro: 0.1802 F1 micro: 0.6436\n",
      "Level: 7 F1 macro: 0.1626 F1 micro: 0.6101\n",
      "Level: 8 F1 macro: 0.1468 F1 micro: 0.3906\n",
      "Level: 9 F1 macro: 0.1757 F1 micro: 0.1104\n",
      "Level: 10 F1 macro: 0.0000 F1 micro: 0.0000\n",
      "Level: 11 F1 macro: 0.0000 F1 micro: 0.0000\n"
     ]
    }
   ],
   "source": [
    "f1_macro, f1_micro, f1_each = model.evaluate(\"train\")\n",
    "print(\"F1 macro: %.4f F1 micro: %.4f\" % (f1_macro, f1_micro))\n",
    "for level, (macro, micro) in enumerate(f1_each):\n",
    "    print(\"Level: %d F1 macro: %.4f F1 micro: %.4f\" % (level, macro, micro))"
   ]
  },
  {
   "cell_type": "code",
   "execution_count": 10,
   "metadata": {
    "scrolled": false
   },
   "outputs": [
    {
     "name": "stdout",
     "output_type": "stream",
     "text": [
      "F1 macro: 0.0288 F1 micro: 0.3588\n",
      "Level: 0 F1 macro: 1.0000 F1 micro: 1.0000\n",
      "Level: 1 F1 macro: 0.3974 F1 micro: 0.9260\n",
      "Level: 2 F1 macro: 0.2879 F1 micro: 0.5883\n",
      "Level: 3 F1 macro: 0.1500 F1 micro: 0.3976\n",
      "Level: 4 F1 macro: 0.0695 F1 micro: 0.2605\n",
      "Level: 5 F1 macro: 0.0309 F1 micro: 0.2257\n",
      "Level: 6 F1 macro: 0.0213 F1 micro: 0.1456\n",
      "Level: 7 F1 macro: 0.0183 F1 micro: 0.1144\n",
      "Level: 8 F1 macro: 0.0099 F1 micro: 0.0386\n",
      "Level: 9 F1 macro: 0.0093 F1 micro: 0.0089\n",
      "Level: 10 F1 macro: 0.0000 F1 micro: 0.0000\n",
      "Level: 11 F1 macro: 0.0000 F1 micro: 0.0000\n"
     ]
    }
   ],
   "source": [
    "f1_macro, f1_micro, f1_each = model.evaluate(\"test\")\n",
    "print(\"F1 macro: %.4f F1 micro: %.4f\" % (f1_macro, f1_micro))\n",
    "for level, (macro, micro) in enumerate(f1_each):\n",
    "    print(\"Level: %d F1 macro: %.4f F1 micro: %.4f\" % (level, macro, micro))"
   ]
  },
  {
   "cell_type": "code",
   "execution_count": null,
   "metadata": {
    "collapsed": true
   },
   "outputs": [],
   "source": []
  }
 ],
 "metadata": {
  "kernelspec": {
   "display_name": "Python 3",
   "language": "python",
   "name": "python3"
  },
  "language_info": {
   "codemirror_mode": {
    "name": "ipython",
    "version": 3
   },
   "file_extension": ".py",
   "mimetype": "text/x-python",
   "name": "python",
   "nbconvert_exporter": "python",
   "pygments_lexer": "ipython3",
   "version": "3.6.1"
  }
 },
 "nbformat": 4,
 "nbformat_minor": 2
}
